{
 "cells": [
  {
   "cell_type": "markdown",
   "id": "9213e511",
   "metadata": {},
   "source": [
    "## I. Regular Expressions (Regex)\n",
    "\n",
    "- Strings with a special syntax \n",
    "- Allow us to match patterns in other strings\n",
    "- Applications:\n",
    "    - find weblinks in a document\n",
    "    - parse email addresses\n",
    "    - remove/replace unwanted characters"
   ]
  },
  {
   "cell_type": "code",
   "execution_count": 1,
   "id": "95a8872b",
   "metadata": {},
   "outputs": [],
   "source": [
    "import re"
   ]
  },
  {
   "cell_type": "markdown",
   "id": "52e21e27",
   "metadata": {},
   "source": [
    "### 1. re methods\n",
    "- Pattern first, string second\n",
    "- May return an iterator, string, or match object\n",
    "|pattern | matches | example |\n",
    "| :- | :- | :- |\n",
    "| \\w+| word | 'Magic' |\n",
    "| \\d | digit | 9 |\n",
    "| \\s | space | '' |\n",
    "| .* | wildcard | 'username74' |\n",
    "| + or * | greedy match | 'aaaaaa' |\n",
    "| \\S| **not** space | 'no_spaces' |\n",
    "| [a-z]| lowercase group | 'abcdefg' |\n",
    "| [A-Z]| uppercase group | 'ABCDEFG' |\n",
    "| [.?!]| symbol group | '.' or '?'|\n",
    "\n",
    "#### match()\n",
    "- matches a pattern with a string, taking pattern as first arg and string as second and returns match oobject.\n",
    "\n",
    "- note: using symbols as capital negates them\n",
    "\n",
    "#### split()\n",
    "- split a string on a regex\n",
    "\n",
    "**e.g.:**\n",
    "```python\n",
    "re.split('\\s+', 'Split on spaces.')\n",
    "# would return:\n",
    "['Split', 'on', 'spaces.']\n",
    "```\n",
    "> *This can be used for tokenization, so you can preprocess text using regex*\n",
    "\n",
    "#### findall()\n",
    "- find all patterns in a string\n",
    "\n",
    "#### search()\n",
    "- search for a pattern"
   ]
  },
  {
   "cell_type": "code",
   "execution_count": 2,
   "id": "ff9dea6d",
   "metadata": {},
   "outputs": [],
   "source": [
    "### CODE:\n",
    "my_string = \"Let's write RegEx!  Won't that be fun?  I sure think so.  Can you find 4 sentences?  Or perhaps, all 19 words?\""
   ]
  },
  {
   "cell_type": "code",
   "execution_count": 3,
   "id": "cf43a18d",
   "metadata": {},
   "outputs": [
    {
     "name": "stdout",
     "output_type": "stream",
     "text": [
      "[\"Let's write RegEx\", \"  Won't that be fun\", '  I sure think so', '  Can you find 4 sentences', '  Or perhaps, all 19 words', '']\n",
      "['Let', 'RegEx', 'Won', 'Can', 'Or']\n",
      "[\"Let's\", 'write', 'RegEx!', \"Won't\", 'that', 'be', 'fun?', 'I', 'sure', 'think', 'so.', 'Can', 'you', 'find', '4', 'sentences?', 'Or', 'perhaps,', 'all', '19', 'words?']\n",
      "['4', '19']\n"
     ]
    }
   ],
   "source": [
    "# Write a pattern to match sentence endings: sentence_endings\n",
    "sentence_endings = r\"[.?!]\"\n",
    "\n",
    "# Split my_string on sentence endings and print the result\n",
    "print(re.split(sentence_endings, my_string))\n",
    "\n",
    "# Find all capitalized words in my_string and print the result\n",
    "capitalized_words = r\"[A-Z]\\w+\"\n",
    "print(re.findall(capitalized_words, my_string))\n",
    "\n",
    "# Split my_string on spaces and print the result\n",
    "spaces = r\"\\s+\"\n",
    "print(re.split(spaces, my_string))\n",
    "\n",
    "# Find all digits in my_string and print the result\n",
    "digits = r\"\\d+\"\n",
    "print(re.findall(digits, my_string))"
   ]
  },
  {
   "cell_type": "code",
   "execution_count": null,
   "id": "41608aaa",
   "metadata": {},
   "outputs": [],
   "source": []
  }
 ],
 "metadata": {
  "kernelspec": {
   "display_name": "Python 3 (ipykernel)",
   "language": "python",
   "name": "python3"
  },
  "language_info": {
   "codemirror_mode": {
    "name": "ipython",
    "version": 3
   },
   "file_extension": ".py",
   "mimetype": "text/x-python",
   "name": "python",
   "nbconvert_exporter": "python",
   "pygments_lexer": "ipython3",
   "version": "3.9.7"
  }
 },
 "nbformat": 4,
 "nbformat_minor": 5
}
