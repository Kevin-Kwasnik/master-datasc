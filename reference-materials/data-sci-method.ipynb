{
 "cells": [
  {
   "cell_type": "markdown",
   "id": "0f9c4cb1",
   "metadata": {},
   "source": [
    "# 1. Problem Identification\n",
    "\n",
    "### Basic checklist\n",
    "\n",
    "A good checklist to run through, when drafting your problem statement, is SMART: <br>\n",
    "\n",
    "`Specific`, not general <br>\n",
    "`Measurable` <br>\n",
    "`Action-oriented` <br>\n",
    "`Relevant` (to the key problem) <br>\n",
    "`Time-bound` <br>"
   ]
  },
  {
   "cell_type": "markdown",
   "id": "b7704566",
   "metadata": {},
   "source": [
    "### Finding alternative definitions of the problem\n",
    "\n",
    "- While `root cause analysis` and the related `5 Whys technique` can be beneficial, they often dig deeper into the existing framework\n",
    "\n",
    "Instead, **reframing** the issue can bring about altogether different--or better--solutions.\n",
    "\n",
    "![reframing](reframing.png)"
   ]
  },
  {
   "cell_type": "markdown",
   "id": "44c0ab93",
   "metadata": {},
   "source": [
    "#### Seven practices for effective reframing\n",
    "\n",
    "1. Establish legitimacy\n",
    "  - establish **method** legitimacy\n",
    "<br>\n",
    "<br>\n",
    "2. Bring outsiders to the discussion\n",
    "  - choose someone on the boundary of the problem; expect input, not solutions\n",
    "<br>\n",
    "<br>\n",
    "3. Get people's defintion in writing\n",
    "<br>\n",
    "<br>\n",
    "4. Ask what's missing\n",
    "  - invite detail\n",
    "<br>\n",
    "<br>\n",
    "5. Consider multiple categories\n",
    "<br>\n",
    "<br>\n",
    "6. Analyze positve exceptions\n",
    "  - check instances where the problem didn't occur\n",
    "<br>\n",
    "<br>\n",
    "7. Question the objective\n",
    "  - clarify and challenge the goal to ensure you are heading in the right direction"
   ]
  },
  {
   "cell_type": "markdown",
   "id": "f81dedf3",
   "metadata": {},
   "source": [
    "### Example of a good problem statment\n",
    "\n",
    "> How can Disney grow profits by 15% within the next 3 years by building more content with partners (e.g., Fox) and/or developing new channels to distribute existing content (e.g., Netflix), without diluting or hurting its overall brand?"
   ]
  },
  {
   "cell_type": "code",
   "execution_count": null,
   "id": "18088149",
   "metadata": {},
   "outputs": [],
   "source": []
  }
 ],
 "metadata": {
  "kernelspec": {
   "display_name": "Python 3 (ipykernel)",
   "language": "python",
   "name": "python3"
  },
  "language_info": {
   "codemirror_mode": {
    "name": "ipython",
    "version": 3
   },
   "file_extension": ".py",
   "mimetype": "text/x-python",
   "name": "python",
   "nbconvert_exporter": "python",
   "pygments_lexer": "ipython3",
   "version": "3.9.7"
  }
 },
 "nbformat": 4,
 "nbformat_minor": 5
}
