{
 "cells": [
  {
   "cell_type": "markdown",
   "id": "32f492b7",
   "metadata": {},
   "source": [
    "# 1. Problem Identification\n",
    "\n",
    "### Basic checklist\n",
    "\n",
    "A good checklist to run through, when drafting your problem statement, is SMART: <br>\n",
    "\n",
    "`Specific`, not general <br>\n",
    "`Measurable` <br>\n",
    "`Action-oriented` <br>\n",
    "`Relevant` (to the key problem) <br>\n",
    "`Time-bound` <br>"
   ]
  },
  {
   "cell_type": "markdown",
   "id": "679cdc26",
   "metadata": {},
   "source": [
    "### Finding alternative definitions of the problem\n",
    "\n",
    "- While `root cause analysis` and the related `5 Whys technique` can be beneficial, they often dig deeper into the existing framework\n",
    "\n",
    "![reframing](reframing.png)"
   ]
  },
  {
   "cell_type": "code",
   "execution_count": null,
   "id": "8d69e80e",
   "metadata": {},
   "outputs": [],
   "source": []
  }
 ],
 "metadata": {
  "kernelspec": {
   "display_name": "Python 3 (ipykernel)",
   "language": "python",
   "name": "python3"
  },
  "language_info": {
   "codemirror_mode": {
    "name": "ipython",
    "version": 3
   },
   "file_extension": ".py",
   "mimetype": "text/x-python",
   "name": "python",
   "nbconvert_exporter": "python",
   "pygments_lexer": "ipython3",
   "version": "3.9.7"
  }
 },
 "nbformat": 4,
 "nbformat_minor": 5
}
