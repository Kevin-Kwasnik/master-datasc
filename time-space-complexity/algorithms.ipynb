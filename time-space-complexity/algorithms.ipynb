{
 "cells": [
  {
   "cell_type": "code",
   "execution_count": 2,
   "metadata": {},
   "outputs": [],
   "source": [
    "from wand.image import Image as WImage"
   ]
  },
  {
   "cell_type": "markdown",
   "metadata": {},
   "source": [
    "# I. Linked List"
   ]
  },
  {
   "cell_type": "markdown",
   "metadata": {},
   "source": [
    "##### Overview:\n",
    "- Linked List does not have an index\n",
    "- Lists are in a contiguous place in memory (right next to one another)\n",
    "- Linked List nodes are spread out in memory\n",
    "</br>\n",
    "</br>\n",
    "- **Head** = first item in list\n",
    "- **Tail** = final item in list\n",
    "- Nodes point to eachother, starting with head to tail"
   ]
  },
  {
   "cell_type": "markdown",
   "metadata": {},
   "source": [
    "#### Big 0:\n",
    "1. **O(1)** Append = add after tail, move pointer to new tail </br>\n",
    "2. **O(n)** Pop (tail) = remove tail, move tail pointer to be equal to pointer that precedes new tail </br>\n",
    "3. **O(1)** Add new Head = set pointer of new item = to head, head point to new node </br>\n",
    "4. **O(1)** Remove (head) = head = head.next, then remove item from linked list </br>\n",
    "5. **O(n)** Add item in middle of list = start at head and iterate until getting to prior node, \n",
    "</br>\n",
    "&emsp; &emsp; set pointer = to that node's pointer, then set prior node pointer to new item </br>\n",
    "6. **O(n)** Remove item in middle of list = iterate through list until getting to prior node, \n",
    "</br>\n",
    "&emsp; &emsp; set pointer = to the to be deleted node's pointer, then remove item </br>\n",
    ">> distinct from lists:\n",
    "7. **O(n)** Lookup by value or index = iterate through list to index or value\n"
   ]
  },
  {
   "cell_type": "markdown",
   "metadata": {},
   "source": [
    "#### Linked List, Advantages & Distadvantages Summary:\n",
    "- Linked Lists O(1) adding or removing from beginning of list, O(n) for Lists\n",
    "- Lists O(1) pop final item or lookup by index, O(n) for Linked List"
   ]
  },
  {
   "cell_type": "code",
   "execution_count": 8,
   "metadata": {},
   "outputs": [
    {
     "ename": "DelegateError",
     "evalue": "FailedToExecuteCommand `\"gswin64c.exe\" -q -dQUIET -dSAFER -dBATCH -dNOPAUSE -dNOPROMPT -dMaxBitmap=500000000 -dAlignToPixels=0 -dGridFitTT=2 \"-sDEVICE=pngalpha\" -dTextAlphaBits=4 -dGraphicsAlphaBits=4 \"-r72x72\" -dPrinted=false  \"-sOutputFile=C:/Users/kfkwa/AppData/Local/Temp/magick-UUBy__Wi47F3WVEmYdTfCE2UvmMuyqZq%d\" \"-fC:/Users/kfkwa/AppData/Local/Temp/magick-_S2Ri9A5WTIzwsQVeieIPrzDrkRV6X6C\" \"-fC:/Users/kfkwa/AppData/Local/Temp/magick-gKlNRqupEvpczxKhv5--aOJuiCIbdxy4\"' (The system cannot find the file specified.\r\n) @ error/delegate.c/ExternalDelegateCommand/517",
     "output_type": "error",
     "traceback": [
      "\u001b[1;31m---------------------------------------------------------------------------\u001b[0m",
      "\u001b[1;31mDelegateError\u001b[0m                             Traceback (most recent call last)",
      "Cell \u001b[1;32mIn[8], line 1\u001b[0m\n\u001b[1;32m----> 1\u001b[0m img\u001b[39m=\u001b[39m WImage(filename\u001b[39m=\u001b[39;49m\u001b[39m'\u001b[39;49m\u001b[39mll-v-lists.pdf\u001b[39;49m\u001b[39m'\u001b[39;49m)\n",
      "File \u001b[1;32mc:\\Users\\kfkwa\\anaconda3\\lib\\site-packages\\wand\\image.py:9365\u001b[0m, in \u001b[0;36mImage.__init__\u001b[1;34m(self, image, blob, file, filename, pseudo, background, colorspace, depth, extract, format, height, interlace, resolution, sampling_factors, units, width)\u001b[0m\n\u001b[0;32m   9363\u001b[0m     \u001b[39mself\u001b[39m\u001b[39m.\u001b[39mread(blob\u001b[39m=\u001b[39mblob)\n\u001b[0;32m   9364\u001b[0m \u001b[39melif\u001b[39;00m filename \u001b[39mis\u001b[39;00m \u001b[39mnot\u001b[39;00m \u001b[39mNone\u001b[39;00m:\n\u001b[1;32m-> 9365\u001b[0m     \u001b[39mself\u001b[39;49m\u001b[39m.\u001b[39;49mread(filename\u001b[39m=\u001b[39;49mfilename)\n\u001b[0;32m   9366\u001b[0m \u001b[39m# clear the wand format, otherwise any subsequent call to\u001b[39;00m\n\u001b[0;32m   9367\u001b[0m \u001b[39m# MagickGetImageBlob will silently change the image to this\u001b[39;00m\n\u001b[0;32m   9368\u001b[0m \u001b[39m# format again.\u001b[39;00m\n\u001b[0;32m   9369\u001b[0m library\u001b[39m.\u001b[39mMagickSetFormat(\u001b[39mself\u001b[39m\u001b[39m.\u001b[39mwand, binary(\u001b[39m\"\u001b[39m\u001b[39m\"\u001b[39m))\n",
      "File \u001b[1;32mc:\\Users\\kfkwa\\anaconda3\\lib\\site-packages\\wand\\image.py:10120\u001b[0m, in \u001b[0;36mImage.read\u001b[1;34m(self, file, filename, blob, background, colorspace, depth, extract, format, height, interlace, resolution, sampling_factors, units, width)\u001b[0m\n\u001b[0;32m  10118\u001b[0m     r \u001b[39m=\u001b[39m library\u001b[39m.\u001b[39mMagickReadImage(\u001b[39mself\u001b[39m\u001b[39m.\u001b[39mwand, filename)\n\u001b[0;32m  10119\u001b[0m \u001b[39mif\u001b[39;00m \u001b[39mnot\u001b[39;00m r:\n\u001b[1;32m> 10120\u001b[0m     \u001b[39mself\u001b[39;49m\u001b[39m.\u001b[39;49mraise_exception()\n\u001b[0;32m  10121\u001b[0m     msg \u001b[39m=\u001b[39m (\u001b[39m'\u001b[39m\u001b[39mMagickReadImage returns false, but did not raise \u001b[39m\u001b[39m'\u001b[39m\n\u001b[0;32m  10122\u001b[0m            \u001b[39m'\u001b[39m\u001b[39mImageMagick  exception. This can occur when a delegate \u001b[39m\u001b[39m'\u001b[39m\n\u001b[0;32m  10123\u001b[0m            \u001b[39m'\u001b[39m\u001b[39mis missing, or returns EXIT_SUCCESS without generating a \u001b[39m\u001b[39m'\u001b[39m\n\u001b[0;32m  10124\u001b[0m            \u001b[39m'\u001b[39m\u001b[39mraster.\u001b[39m\u001b[39m'\u001b[39m)\n\u001b[0;32m  10125\u001b[0m     \u001b[39mraise\u001b[39;00m WandRuntimeError(msg)\n",
      "File \u001b[1;32mc:\\Users\\kfkwa\\anaconda3\\lib\\site-packages\\wand\\resource.py:225\u001b[0m, in \u001b[0;36mResource.raise_exception\u001b[1;34m(self, stacklevel)\u001b[0m\n\u001b[0;32m    223\u001b[0m     warnings\u001b[39m.\u001b[39mwarn(e, stacklevel\u001b[39m=\u001b[39mstacklevel \u001b[39m+\u001b[39m \u001b[39m1\u001b[39m)\n\u001b[0;32m    224\u001b[0m \u001b[39melif\u001b[39;00m \u001b[39misinstance\u001b[39m(e, \u001b[39mException\u001b[39;00m):\n\u001b[1;32m--> 225\u001b[0m     \u001b[39mraise\u001b[39;00m e\n",
      "\u001b[1;31mDelegateError\u001b[0m: FailedToExecuteCommand `\"gswin64c.exe\" -q -dQUIET -dSAFER -dBATCH -dNOPAUSE -dNOPROMPT -dMaxBitmap=500000000 -dAlignToPixels=0 -dGridFitTT=2 \"-sDEVICE=pngalpha\" -dTextAlphaBits=4 -dGraphicsAlphaBits=4 \"-r72x72\" -dPrinted=false  \"-sOutputFile=C:/Users/kfkwa/AppData/Local/Temp/magick-UUBy__Wi47F3WVEmYdTfCE2UvmMuyqZq%d\" \"-fC:/Users/kfkwa/AppData/Local/Temp/magick-_S2Ri9A5WTIzwsQVeieIPrzDrkRV6X6C\" \"-fC:/Users/kfkwa/AppData/Local/Temp/magick-gKlNRqupEvpczxKhv5--aOJuiCIbdxy4\"' (The system cannot find the file specified.\r\n) @ error/delegate.c/ExternalDelegateCommand/517"
     ]
    }
   ],
   "source": [
    "img= WImage(filename='ll-v-lists.pdf')"
   ]
  },
  {
   "cell_type": "markdown",
   "metadata": {},
   "source": [
    "#### LL Under the Hood"
   ]
  },
  {
   "cell_type": "code",
   "execution_count": 1,
   "metadata": {},
   "outputs": [],
   "source": [
    "head = {\n",
    "        \"value\": 11,\n",
    "        \"next\": {\n",
    "            \"value\": 3,\n",
    "            \"next\": {\n",
    "                \"value\": 23,\n",
    "                \"next\": {\n",
    "                    \"value\": 7,\n",
    "                    \"next\": None\n",
    "                }\n",
    "            }\n",
    "        }\n",
    "    }"
   ]
  },
  {
   "cell_type": "code",
   "execution_count": 3,
   "metadata": {},
   "outputs": [
    {
     "name": "stdout",
     "output_type": "stream",
     "text": [
      "23\n"
     ]
    }
   ],
   "source": [
    "print(head['next']['next']['value'])\n",
    "\n",
    "## The below will only work with a linked list:\n",
    "# print(my_linked_list.head.next.next.value)"
   ]
  },
  {
   "cell_type": "markdown",
   "metadata": {},
   "source": [
    "##### Linked List Constructor"
   ]
  },
  {
   "cell_type": "code",
   "execution_count": 119,
   "metadata": {},
   "outputs": [],
   "source": [
    "#note in the below, create a new node occurs in every method\n",
    "#thus, we can create a class to create a node, and then use that class in the linked list class\n",
    "\n",
    "class Node:\n",
    "    def __init__ (self, value):\n",
    "        self.value = value\n",
    "        self.next = None\n",
    "\n",
    "class LinkedList:\n",
    "    #create new node\n",
    "    def __init__(self, value):\n",
    "        new_node = Node(value)\n",
    "        self.head = new_node\n",
    "        self.tail = new_node\n",
    "        self.length = 1\n",
    "\n",
    "    #print current list (this can be done differently)\n",
    "    def print_list(self):\n",
    "        temp = self.head\n",
    "        while temp is not None:\n",
    "            print(temp.value)\n",
    "            temp = temp.next\n",
    "    \n",
    "    #create new node, last item that was in the list point to new node, tail point to new node\n",
    "        ##edge case: the linked list could be empty, head and tail will point to new node\n",
    "    def append(self, value):\n",
    "        new_node = Node(value)\n",
    "        if self.head == None: \n",
    "            self.head = new_node\n",
    "            self.tail = new_node\n",
    "        else:\n",
    "            self.tail.next = new_node\n",
    "            self.tail = new_node\n",
    "        self.length += 1\n",
    "        return True #this is not necessary for append itself; it's required for a future method\n",
    "\n",
    "    # set tail.value = None, move tail to self.length -1 (iteration through list)\n",
    "        ##edge cases: empty linked list | length 1 linked list\n",
    "\n",
    "    def pop(self):\n",
    "        if self.head == None:\n",
    "            return None\n",
    "        else: \n",
    "            temp = self.head\n",
    "            pre = self.head\n",
    "            while(temp.next):\n",
    "                pre = temp\n",
    "                temp = temp.next\n",
    "            self.tail = pre\n",
    "            self.tail.next = None\n",
    "            self.length -= 1\n",
    "            if self.length == 0:\n",
    "                self.head = None\n",
    "                self.tail = None\n",
    "            return temp\n",
    "            \n",
    "\n",
    "    \n",
    "    '''\n",
    "    #create new node, add node to beginning of list\n",
    "    def prepend(self, value):\n",
    "\n",
    "    #create new node, insert node at given index\n",
    "    def insert(self, index, value): '''  "
   ]
  },
  {
   "cell_type": "markdown",
   "metadata": {},
   "source": [
    "## Code Test:\n",
    "\n",
    "I. Added Node and Constructor Class"
   ]
  },
  {
   "cell_type": "code",
   "execution_count": 2,
   "metadata": {},
   "outputs": [],
   "source": [
    "ll1 = LinkedList(11) # creating list"
   ]
  },
  {
   "cell_type": "code",
   "execution_count": 4,
   "metadata": {},
   "outputs": [
    {
     "data": {
      "text/plain": [
       "11"
      ]
     },
     "execution_count": 4,
     "metadata": {},
     "output_type": "execute_result"
    }
   ],
   "source": [
    "ll1.head.value"
   ]
  },
  {
   "cell_type": "markdown",
   "metadata": {},
   "source": [
    "II. Added print list and append:"
   ]
  },
  {
   "cell_type": "code",
   "execution_count": 5,
   "metadata": {},
   "outputs": [],
   "source": [
    "link_list_2 = LinkedList(1)"
   ]
  },
  {
   "cell_type": "code",
   "execution_count": 6,
   "metadata": {},
   "outputs": [
    {
     "data": {
      "text/plain": [
       "True"
      ]
     },
     "execution_count": 6,
     "metadata": {},
     "output_type": "execute_result"
    }
   ],
   "source": [
    "link_list_2.append(2)"
   ]
  },
  {
   "cell_type": "code",
   "execution_count": 7,
   "metadata": {},
   "outputs": [
    {
     "name": "stdout",
     "output_type": "stream",
     "text": [
      "1\n",
      "2\n"
     ]
    }
   ],
   "source": [
    "link_list_2.print_list()"
   ]
  },
  {
   "cell_type": "markdown",
   "metadata": {},
   "source": [
    "III. Added pop method:"
   ]
  },
  {
   "cell_type": "code",
   "execution_count": 120,
   "metadata": {},
   "outputs": [],
   "source": [
    "link_list_3 = LinkedList(5)"
   ]
  },
  {
   "cell_type": "code",
   "execution_count": 121,
   "metadata": {},
   "outputs": [
    {
     "data": {
      "text/plain": [
       "True"
      ]
     },
     "execution_count": 121,
     "metadata": {},
     "output_type": "execute_result"
    }
   ],
   "source": [
    "link_list_3.append(7)"
   ]
  },
  {
   "cell_type": "code",
   "execution_count": 126,
   "metadata": {},
   "outputs": [],
   "source": [
    "link_list_3.print_list()"
   ]
  },
  {
   "cell_type": "code",
   "execution_count": 127,
   "metadata": {},
   "outputs": [],
   "source": [
    "link_list_3.pop()"
   ]
  }
 ],
 "metadata": {
  "kernelspec": {
   "display_name": "base",
   "language": "python",
   "name": "python3"
  },
  "language_info": {
   "codemirror_mode": {
    "name": "ipython",
    "version": 3
   },
   "file_extension": ".py",
   "mimetype": "text/x-python",
   "name": "python",
   "nbconvert_exporter": "python",
   "pygments_lexer": "ipython3",
   "version": "3.10.9"
  },
  "orig_nbformat": 4
 },
 "nbformat": 4,
 "nbformat_minor": 2
}
