{
 "cells": [
  {
   "cell_type": "markdown",
   "id": "4a7cc425",
   "metadata": {},
   "source": [
    "import pandas as pd\n",
    "\n",
    "course_link = \"https://campus.datacamp.com/courses/data-types-for-data-science-in-python/handling-dates-and-times?ex=1\""
   ]
  },
  {
   "cell_type": "code",
   "execution_count": 3,
   "id": "936f621f",
   "metadata": {},
   "outputs": [],
   "source": [
    "station_data = pd.read_csv(\"https://assets.datacamp.com/production/repositories/906/datasets/b7806a5db41c23931fd1adf02af54ac10c15e61c/cta_daily_station_totals.csv\", sep = ',')"
   ]
  },
  {
   "cell_type": "code",
   "execution_count": 4,
   "id": "648ea073",
   "metadata": {},
   "outputs": [
    {
     "data": {
      "text/html": [
       "<div>\n",
       "<style scoped>\n",
       "    .dataframe tbody tr th:only-of-type {\n",
       "        vertical-align: middle;\n",
       "    }\n",
       "\n",
       "    .dataframe tbody tr th {\n",
       "        vertical-align: top;\n",
       "    }\n",
       "\n",
       "    .dataframe thead th {\n",
       "        text-align: right;\n",
       "    }\n",
       "</style>\n",
       "<table border=\"1\" class=\"dataframe\">\n",
       "  <thead>\n",
       "    <tr style=\"text-align: right;\">\n",
       "      <th></th>\n",
       "      <th>station_id</th>\n",
       "      <th>stationname</th>\n",
       "      <th>date</th>\n",
       "      <th>daytype</th>\n",
       "      <th>rides</th>\n",
       "    </tr>\n",
       "  </thead>\n",
       "  <tbody>\n",
       "    <tr>\n",
       "      <th>0</th>\n",
       "      <td>40010</td>\n",
       "      <td>Austin-Forest Park</td>\n",
       "      <td>01/01/2015</td>\n",
       "      <td>SUNDAY/HOLIDAY</td>\n",
       "      <td>587</td>\n",
       "    </tr>\n",
       "    <tr>\n",
       "      <th>1</th>\n",
       "      <td>40010</td>\n",
       "      <td>Austin-Forest Park</td>\n",
       "      <td>01/02/2015</td>\n",
       "      <td>WEEKDAY</td>\n",
       "      <td>1386</td>\n",
       "    </tr>\n",
       "    <tr>\n",
       "      <th>2</th>\n",
       "      <td>40010</td>\n",
       "      <td>Austin-Forest Park</td>\n",
       "      <td>01/03/2015</td>\n",
       "      <td>SATURDAY</td>\n",
       "      <td>785</td>\n",
       "    </tr>\n",
       "    <tr>\n",
       "      <th>3</th>\n",
       "      <td>40010</td>\n",
       "      <td>Austin-Forest Park</td>\n",
       "      <td>01/04/2015</td>\n",
       "      <td>SUNDAY/HOLIDAY</td>\n",
       "      <td>625</td>\n",
       "    </tr>\n",
       "    <tr>\n",
       "      <th>4</th>\n",
       "      <td>40010</td>\n",
       "      <td>Austin-Forest Park</td>\n",
       "      <td>01/05/2015</td>\n",
       "      <td>WEEKDAY</td>\n",
       "      <td>1752</td>\n",
       "    </tr>\n",
       "  </tbody>\n",
       "</table>\n",
       "</div>"
      ],
      "text/plain": [
       "   station_id         stationname        date         daytype  rides\n",
       "0       40010  Austin-Forest Park  01/01/2015  SUNDAY/HOLIDAY    587\n",
       "1       40010  Austin-Forest Park  01/02/2015         WEEKDAY   1386\n",
       "2       40010  Austin-Forest Park  01/03/2015        SATURDAY    785\n",
       "3       40010  Austin-Forest Park  01/04/2015  SUNDAY/HOLIDAY    625\n",
       "4       40010  Austin-Forest Park  01/05/2015         WEEKDAY   1752"
      ]
     },
     "execution_count": 4,
     "metadata": {},
     "output_type": "execute_result"
    }
   ],
   "source": [
    "station_data.head()"
   ]
  },
  {
   "cell_type": "markdown",
   "id": "e96a63a8",
   "metadata": {},
   "source": [
    "# I. Datetime Overview\n",
    "\n",
    "The `datetime` module is part of the Python standard library\n",
    "<br>\n",
    "<br>\n",
    "`.strptime()` method converts from a string to a `datetime` object.\n",
    "<br>\n",
    "`.strftime()` method uses a format string to convert a datetime object to a string\n",
    "<br>\n",
    "`.isoformat()` method outputs a datetime as an ISO standard string\n",
    "\n",
    "- **Time Format Strings**\n",
    "\n",
    "> %d = day of the month as a zero-padded decimal number. <br>\n",
    "> %m = month as a zero-padded decimal number. <br>\n",
    "> %Y = Year with century as a decimal number."
   ]
  },
  {
   "cell_type": "code",
   "execution_count": 6,
   "id": "de10f5b2",
   "metadata": {},
   "outputs": [],
   "source": [
    "from datetime import datetime"
   ]
  },
  {
   "cell_type": "markdown",
   "id": "55acd869",
   "metadata": {},
   "source": [
    "### 1. Strings to DateTimes\n",
    "\n",
    "#### Tasks\n",
    "\n",
    "- Import the datetime object from datetime. \n",
    "- Iterate over the dates_list, using date_str as your iterator variable.\n",
    "- Convert each date_str into a datetime object called date_dt using the datetime.strptime()  function, with '%m/%d/%Y' as your format. \n",
    "- Print each date_dt."
   ]
  },
  {
   "cell_type": "code",
   "execution_count": 19,
   "id": "405b3bc3",
   "metadata": {},
   "outputs": [
    {
     "name": "stdout",
     "output_type": "stream",
     "text": [
      "2015-01-01 00:00:00\n",
      "2015-01-02 00:00:00\n",
      "2015-01-03 00:00:00\n",
      "2015-01-04 00:00:00\n",
      "2015-01-05 00:00:00\n",
      "2015-01-06 00:00:00\n",
      "2015-01-07 00:00:00\n",
      "2015-01-08 00:00:00\n",
      "2015-01-09 00:00:00\n",
      "2015-01-10 00:00:00\n",
      "2015-01-11 00:00:00\n",
      "2015-01-12 00:00:00\n",
      "2015-01-13 00:00:00\n",
      "2015-01-14 00:00:00\n",
      "2015-01-15 00:00:00\n",
      "2015-01-16 00:00:00\n",
      "2015-01-17 00:00:00\n",
      "2015-01-18 00:00:00\n",
      "2015-01-19 00:00:00\n",
      "2015-01-20 00:00:00\n"
     ]
    }
   ],
   "source": [
    "for date_str in station_data[\"date\"][:20]:\n",
    "    date_dt = datetime.strptime(date_str, '%m/%d/%Y' )\n",
    "    print(date_dt)"
   ]
  },
  {
   "cell_type": "markdown",
   "id": "137c74b1",
   "metadata": {},
   "source": [
    "### 2. Converting to a String\n",
    "\n",
    "#### Tasks\n",
    "\n",
    "- Loop over the first 10 items of the datetimes_list, using item as your iterator variable.\n",
    "    - Print out the item as a string in the format of 'MM/DD/YYYY'. For this, the format string is '%m/%d/%Y'.\n",
    "    - Print out the item as an ISO standard string.\n",
    "\n"
   ]
  },
  {
   "cell_type": "code",
   "execution_count": 25,
   "id": "28eb662b",
   "metadata": {},
   "outputs": [],
   "source": [
    "datetimes_list = [] # creation of list needed to continue exercise\n",
    "for date_str in station_data[\"date\"][:10]:\n",
    "    date_dt = datetime.strptime(date_str, '%m/%d/%Y' )\n",
    "    datetimes_list.append(date_dt)"
   ]
  },
  {
   "cell_type": "code",
   "execution_count": 24,
   "id": "087482f6",
   "metadata": {},
   "outputs": [
    {
     "name": "stdout",
     "output_type": "stream",
     "text": [
      "01/01/2015\n",
      "2015-01-01T00:00:00\n",
      "01/02/2015\n",
      "2015-01-02T00:00:00\n",
      "01/03/2015\n",
      "2015-01-03T00:00:00\n",
      "01/04/2015\n",
      "2015-01-04T00:00:00\n",
      "01/05/2015\n",
      "2015-01-05T00:00:00\n",
      "01/06/2015\n",
      "2015-01-06T00:00:00\n",
      "01/07/2015\n",
      "2015-01-07T00:00:00\n",
      "01/08/2015\n",
      "2015-01-08T00:00:00\n",
      "01/09/2015\n",
      "2015-01-09T00:00:00\n",
      "01/10/2015\n",
      "2015-01-10T00:00:00\n"
     ]
    }
   ],
   "source": [
    "for item in datetimes_list[:10]:\n",
    "    print(datetime.strftime(item, '%m/%d/%Y'))\n",
    "    print(datetime.isoformat(item))"
   ]
  },
  {
   "cell_type": "markdown",
   "id": "32cdf8b1",
   "metadata": {},
   "source": [
    "# II. Datetime Components and current time\n",
    "\n",
    "- All the parts of a datetime object are available as attributes, such as `day`, `month`, `year`, `hour`, `minute`, `second` etc.\n",
    "\n",
    "- These are great for grouping data\n",
    "\n",
    "`.now()` method returns the current local datetime\n",
    "<br>\n",
    "`.utcnow() method retuns the current UTC datetime`\n",
    "<br>"
   ]
  },
  {
   "cell_type": "code",
   "execution_count": 27,
   "id": "56f0b627",
   "metadata": {},
   "outputs": [
    {
     "name": "stdout",
     "output_type": "stream",
     "text": [
      "2022-06-28 17:09:27.800529\n"
     ]
    }
   ],
   "source": [
    "local_dt = datetime.now()\n",
    "print(local_dt)"
   ]
  },
  {
   "cell_type": "code",
   "execution_count": 29,
   "id": "3bd8f3cb",
   "metadata": {},
   "outputs": [
    {
     "name": "stdout",
     "output_type": "stream",
     "text": [
      "2022-06-28 21:10:47.979420\n"
     ]
    }
   ],
   "source": [
    "local_utc = datetime.utcnow() # utc timezone is the only timezone with a unique method\n",
    "print(local_utc)"
   ]
  },
  {
   "cell_type": "code",
   "execution_count": 31,
   "id": "7370a770",
   "metadata": {},
   "outputs": [],
   "source": [
    "ridership_sum = pd.read_csv(\"https://assets.datacamp.com/production/repositories/906/datasets/0c8af86b914fd9edfd3d907b6006fefaadaf827b/cta_daily_summary_totals.csv\", sep = ',')"
   ]
  },
  {
   "cell_type": "code",
   "execution_count": 32,
   "id": "c476dfa7",
   "metadata": {},
   "outputs": [
    {
     "data": {
      "text/html": [
       "<div>\n",
       "<style scoped>\n",
       "    .dataframe tbody tr th:only-of-type {\n",
       "        vertical-align: middle;\n",
       "    }\n",
       "\n",
       "    .dataframe tbody tr th {\n",
       "        vertical-align: top;\n",
       "    }\n",
       "\n",
       "    .dataframe thead th {\n",
       "        text-align: right;\n",
       "    }\n",
       "</style>\n",
       "<table border=\"1\" class=\"dataframe\">\n",
       "  <thead>\n",
       "    <tr style=\"text-align: right;\">\n",
       "      <th></th>\n",
       "      <th>service_date</th>\n",
       "      <th>day_type</th>\n",
       "      <th>bus</th>\n",
       "      <th>rail_boardings</th>\n",
       "      <th>total_rides</th>\n",
       "    </tr>\n",
       "  </thead>\n",
       "  <tbody>\n",
       "    <tr>\n",
       "      <th>0</th>\n",
       "      <td>01/01/2001</td>\n",
       "      <td>U</td>\n",
       "      <td>297192</td>\n",
       "      <td>126455</td>\n",
       "      <td>423647</td>\n",
       "    </tr>\n",
       "    <tr>\n",
       "      <th>1</th>\n",
       "      <td>01/02/2001</td>\n",
       "      <td>W</td>\n",
       "      <td>780827</td>\n",
       "      <td>501952</td>\n",
       "      <td>1282779</td>\n",
       "    </tr>\n",
       "    <tr>\n",
       "      <th>2</th>\n",
       "      <td>01/03/2001</td>\n",
       "      <td>W</td>\n",
       "      <td>824923</td>\n",
       "      <td>536432</td>\n",
       "      <td>1361355</td>\n",
       "    </tr>\n",
       "    <tr>\n",
       "      <th>3</th>\n",
       "      <td>01/04/2001</td>\n",
       "      <td>W</td>\n",
       "      <td>870021</td>\n",
       "      <td>550011</td>\n",
       "      <td>1420032</td>\n",
       "    </tr>\n",
       "    <tr>\n",
       "      <th>4</th>\n",
       "      <td>01/05/2001</td>\n",
       "      <td>W</td>\n",
       "      <td>890426</td>\n",
       "      <td>557917</td>\n",
       "      <td>1448343</td>\n",
       "    </tr>\n",
       "  </tbody>\n",
       "</table>\n",
       "</div>"
      ],
      "text/plain": [
       "  service_date day_type     bus  rail_boardings  total_rides\n",
       "0   01/01/2001        U  297192          126455       423647\n",
       "1   01/02/2001        W  780827          501952      1282779\n",
       "2   01/03/2001        W  824923          536432      1361355\n",
       "3   01/04/2001        W  870021          550011      1420032\n",
       "4   01/05/2001        W  890426          557917      1448343"
      ]
     },
     "execution_count": 32,
     "metadata": {},
     "output_type": "execute_result"
    }
   ],
   "source": [
    "ridership_sum.head()"
   ]
  },
  {
   "cell_type": "code",
   "execution_count": 33,
   "id": "0739bb42",
   "metadata": {},
   "outputs": [],
   "source": [
    "from collections import defaultdict"
   ]
  },
  {
   "cell_type": "markdown",
   "id": "b5c49a1a",
   "metadata": {},
   "source": [
    "### 1. Grouping by Pieces of Time\n",
    "\n",
    "#### Tasks:\n",
    "- Create a defaultdict of an integer called monthly_total_rides.\n",
    "- Loop over the list daily_summaries, which contains the columns mentioned above in the assignment text.\n",
    "- Convert the service_date (1st element of daily_summary) to a datetime object called service_datetime. Use '%m/%d/%Y' as your format string.\n",
    "- Use the month of the service_datetime as the dict key and add the total_rides (5th element of daily_summary) to the current amount for the month. Be sure to convert this into an integer.\n",
    "- Print monthly_total_rides."
   ]
  },
  {
   "cell_type": "code",
   "execution_count": 79,
   "id": "29a635a4",
   "metadata": {},
   "outputs": [],
   "source": [
    "### The code given was in lists, while the data was in a dataframe. \n",
    "### Some intermediary steps would be required to iterate over the rows\n",
    "### This code would assist in answering the questions above.\n",
    "### By converting the columns to a set of tuples, the summary of riding\n",
    "### is easy to accomplish"
   ]
  },
  {
   "cell_type": "code",
   "execution_count": 75,
   "id": "ad1de794",
   "metadata": {},
   "outputs": [],
   "source": [
    "daily_summaries = list(zip(ridership_sum['service_date'], ridership_sum['rail_boardings']))"
   ]
  },
  {
   "cell_type": "code",
   "execution_count": 77,
   "id": "5257c031",
   "metadata": {},
   "outputs": [
    {
     "data": {
      "text/plain": [
       "[('01/01/2001', 126455),\n",
       " ('01/02/2001', 501952),\n",
       " ('01/03/2001', 536432),\n",
       " ('01/04/2001', 550011),\n",
       " ('01/05/2001', 557917),\n",
       " ('01/06/2001', 255356),\n",
       " ('01/07/2001', 169825),\n",
       " ('01/08/2001', 590706),\n",
       " ('01/09/2001', 599905),\n",
       " ('01/10/2001', 602052)]"
      ]
     },
     "execution_count": 77,
     "metadata": {},
     "output_type": "execute_result"
    }
   ],
   "source": [
    "daily_summaries[:10]"
   ]
  },
  {
   "cell_type": "code",
   "execution_count": 78,
   "id": "084b9438",
   "metadata": {},
   "outputs": [
    {
     "data": {
      "text/plain": [
       "str"
      ]
     },
     "execution_count": 78,
     "metadata": {},
     "output_type": "execute_result"
    }
   ],
   "source": [
    "type(daily_summaries[0][0])"
   ]
  },
  {
   "cell_type": "code",
   "execution_count": 85,
   "id": "8a2ba73e",
   "metadata": {},
   "outputs": [
    {
     "name": "stdout",
     "output_type": "stream",
     "text": [
      "defaultdict(<class 'int'>, {1: 198754173, 2: 192292085, 3: 214815420, 4: 212962023, 5: 218203380, 6: 222603674, 7: 226009048, 8: 226698434, 9: 227376891, 10: 260676441, 11: 212481368, 12: 194533610})\n"
     ]
    }
   ],
   "source": [
    "monthly_total_rides = defaultdict(int)\n",
    "\n",
    "for daily_summary in daily_summaries:\n",
    "    service_datetime = datetime.strptime(daily_summary[0], '%m/%d/%Y')\n",
    "    monthly_total_rides[service_datetime.month] += int(daily_summary[1])\n",
    "    \n",
    "print(monthly_total_rides)"
   ]
  },
  {
   "cell_type": "markdown",
   "id": "37e6afbf",
   "metadata": {},
   "source": [
    "### 2. Timezones\n",
    "\n",
    "- Naive datetime objects have no timezone data (this is what we created with `.now()`)\n",
    "- Aware datetime objects have a timezone\n",
    "- Timezone data is available via the `pytz` module via the `timezone` object\n",
    "- An aware datetime has a `.astimezone()` method that you can get the time in another timezone\n",
    "> the timezone will be assumed as the timezone of the computer you are working on, otherwise\n",
    "\n",
    "<br>\n",
    "\n",
    "In Python 3, you can make a datetime object \"aware\" by passing a timezone as the `tzinfo` keyword argument to the `.replace()` method on a datetime instance.\n",
    "\n"
   ]
  },
  {
   "cell_type": "code",
   "execution_count": 86,
   "id": "9759e35f",
   "metadata": {},
   "outputs": [],
   "source": [
    "from pytz import timezone"
   ]
  },
  {
   "cell_type": "code",
   "execution_count": 89,
   "id": "48f1a110",
   "metadata": {},
   "outputs": [
    {
     "data": {
      "text/plain": [
       "datetime.datetime(2001, 1, 1, 0, 0)"
      ]
     },
     "execution_count": 89,
     "metadata": {},
     "output_type": "execute_result"
    }
   ],
   "source": [
    "datetime.strptime(daily_summaries[0][0], '%m/%d/%Y')"
   ]
  },
  {
   "cell_type": "code",
   "execution_count": 90,
   "id": "a2966351",
   "metadata": {},
   "outputs": [
    {
     "data": {
      "text/plain": [
       "str"
      ]
     },
     "execution_count": 90,
     "metadata": {},
     "output_type": "execute_result"
    }
   ],
   "source": [
    "type(daily_summaries[0][0])"
   ]
  },
  {
   "cell_type": "code",
   "execution_count": 104,
   "id": "e80f3609",
   "metadata": {},
   "outputs": [],
   "source": [
    "# the activity required a list with datetime object in first position\n",
    "daily_w_tup = [] \n",
    "for i in daily_summaries:\n",
    "    daily_w_tup.append((datetime.strptime(i[0], '%m/%d/%Y'), i[1]))"
   ]
  },
  {
   "cell_type": "code",
   "execution_count": 106,
   "id": "9f95ad84",
   "metadata": {},
   "outputs": [
    {
     "data": {
      "text/plain": [
       "[(datetime.datetime(2001, 1, 1, 0, 0), 126455),\n",
       " (datetime.datetime(2001, 1, 2, 0, 0), 501952),\n",
       " (datetime.datetime(2001, 1, 3, 0, 0), 536432),\n",
       " (datetime.datetime(2001, 1, 4, 0, 0), 550011),\n",
       " (datetime.datetime(2001, 1, 5, 0, 0), 557917),\n",
       " (datetime.datetime(2001, 1, 6, 0, 0), 255356),\n",
       " (datetime.datetime(2001, 1, 7, 0, 0), 169825),\n",
       " (datetime.datetime(2001, 1, 8, 0, 0), 590706),\n",
       " (datetime.datetime(2001, 1, 9, 0, 0), 599905),\n",
       " (datetime.datetime(2001, 1, 10, 0, 0), 602052)]"
      ]
     },
     "execution_count": 106,
     "metadata": {},
     "output_type": "execute_result"
    }
   ],
   "source": [
    "daily_w_tup[:10]"
   ]
  },
  {
   "cell_type": "markdown",
   "id": "8e172ad3",
   "metadata": {},
   "source": [
    "#### Activity Tasks:\n",
    "\n",
    "- Create a Timezone object for Chicago ('US/Central') called chicago_usa_tz.\n",
    "- Create a Timezone object for New York ('US/Eastern') called ny_usa_tz.\n",
    "- Iterate over the daily_summaries, unpacking it into the variables orig_dt and ridership.\n",
    "- Make the orig_dt timezone \"aware\" for Chicago, using chicago_usa_tz. Store the result in chicago_dt.\n",
    "- Convert chicago_dt to the New York timezone, ny_dt.\n",
    "- Print the chicago_dt, ny_dt, and ridership."
   ]
  },
  {
   "cell_type": "code",
   "execution_count": 107,
   "id": "2168144d",
   "metadata": {},
   "outputs": [],
   "source": [
    "chicago_usa_tz = timezone('US/Central')"
   ]
  },
  {
   "cell_type": "code",
   "execution_count": 108,
   "id": "57ff71de",
   "metadata": {},
   "outputs": [],
   "source": [
    "ny_usa_tz = timezone('US/Eastern')"
   ]
  },
  {
   "cell_type": "code",
   "execution_count": 111,
   "id": "46a7f439",
   "metadata": {},
   "outputs": [
    {
     "name": "stdout",
     "output_type": "stream",
     "text": [
      "Chicago: 2001-01-01 00:00:00-05:51, NY: 2001-01-01 00:51:00-05:00, Ridership: 126455\n",
      "Chicago: 2001-01-02 00:00:00-05:51, NY: 2001-01-02 00:51:00-05:00, Ridership: 501952\n",
      "Chicago: 2001-01-03 00:00:00-05:51, NY: 2001-01-03 00:51:00-05:00, Ridership: 536432\n",
      "Chicago: 2001-01-04 00:00:00-05:51, NY: 2001-01-04 00:51:00-05:00, Ridership: 550011\n",
      "Chicago: 2001-01-05 00:00:00-05:51, NY: 2001-01-05 00:51:00-05:00, Ridership: 557917\n",
      "Chicago: 2001-01-06 00:00:00-05:51, NY: 2001-01-06 00:51:00-05:00, Ridership: 255356\n",
      "Chicago: 2001-01-07 00:00:00-05:51, NY: 2001-01-07 00:51:00-05:00, Ridership: 169825\n",
      "Chicago: 2001-01-08 00:00:00-05:51, NY: 2001-01-08 00:51:00-05:00, Ridership: 590706\n",
      "Chicago: 2001-01-09 00:00:00-05:51, NY: 2001-01-09 00:51:00-05:00, Ridership: 599905\n",
      "Chicago: 2001-01-10 00:00:00-05:51, NY: 2001-01-10 00:51:00-05:00, Ridership: 602052\n"
     ]
    }
   ],
   "source": [
    "for orig_dt, ridership in daily_w_tup[:10]:\n",
    "    chicago_dt = orig_dt.replace(tzinfo=chicago_usa_tz)\n",
    "    ny_dt = chicago_dt.astimezone(ny_usa_tz)\n",
    "    \n",
    "    print('Chicago: %s, NY: %s, Ridership: %s' % (chicago_dt, ny_dt, ridership))"
   ]
  },
  {
   "cell_type": "markdown",
   "id": "eb8f71fe",
   "metadata": {},
   "source": [
    "### 3. Incrementing through time\n",
    "\n",
    "`timedelta` is used to represent an amount of change in time\n",
    "- used to add or subtract a set amount of time from a datetime object."
   ]
  },
  {
   "cell_type": "code",
   "execution_count": 112,
   "id": "8c502c0e",
   "metadata": {},
   "outputs": [],
   "source": [
    "from datetime import timedelta\n",
    "flashback = timedelta(days=90)"
   ]
  },
  {
   "cell_type": "markdown",
   "id": "144aab77",
   "metadata": {},
   "source": [
    "**Example use:**\n",
    "\n",
    "```python\n",
    "print(record_dt - flashback)\n",
    "print(record_dt + flashback)\n",
    "```"
   ]
  },
  {
   "cell_type": "markdown",
   "id": "9b923f8b",
   "metadata": {},
   "source": [
    "#### Datetime differences\n",
    "\n",
    "Use the `-` operator to calculate the difference\n",
    "- returns a timedelta with the differences\n",
    "\n",
    "```python\n",
    "time_dif = record_dt - record2_dt\n",
    "type(time_diff)\n",
    "```\n",
    "- this will return `datetime.timedelta`"
   ]
  },
  {
   "cell_type": "code",
   "execution_count": 180,
   "id": "a88a7cd3",
   "metadata": {},
   "outputs": [],
   "source": [
    "### The exercise requires a dictionary created from the date (as datetime object) as key\n",
    "### And the values day_type and total ridership as a nested dicitonary"
   ]
  },
  {
   "cell_type": "code",
   "execution_count": 153,
   "id": "eccc1a40",
   "metadata": {},
   "outputs": [
    {
     "data": {
      "text/plain": [
       "('01/01/2001', 'U', 126455)"
      ]
     },
     "execution_count": 153,
     "metadata": {},
     "output_type": "execute_result"
    }
   ],
   "source": [
    "daily_summaries_dict = list(zip(ridership_sum['service_date'], ridership_sum['day_type'],ridership_sum['rail_boardings']))\n",
    "daily_summaries_dict[0]"
   ]
  },
  {
   "cell_type": "code",
   "execution_count": 178,
   "id": "be26d608",
   "metadata": {},
   "outputs": [],
   "source": [
    "import itertools"
   ]
  },
  {
   "cell_type": "code",
   "execution_count": 179,
   "id": "0d5ae82e",
   "metadata": {},
   "outputs": [
    {
     "name": "stdout",
     "output_type": "stream",
     "text": [
      "2001-01-01 00:00:00 {'day_type': 'U', 'total_ridership': 126455}\n",
      "2001-01-02 00:00:00 {'day_type': 'W', 'total_ridership': 501952}\n",
      "2001-01-03 00:00:00 {'day_type': 'W', 'total_ridership': 536432}\n",
      "2001-01-04 00:00:00 {'day_type': 'W', 'total_ridership': 550011}\n"
     ]
    }
   ],
   "source": [
    "d = {}\n",
    "for i in daily_summaries_dict:\n",
    "    d[(datetime.strptime(i[0], '%m/%d/%Y'))] = {'day_type': i[1], 'total_ridership': i[2]}\n",
    "\n",
    "    # the only reason for this is to print less items of the created dictionary\n",
    "x = itertools.islice(d.items(), 0, 4)\n",
    "\n",
    "for key, value in x:\n",
    "    print (key, value)\n"
   ]
  },
  {
   "cell_type": "code",
   "execution_count": 187,
   "id": "86bc3088",
   "metadata": {},
   "outputs": [],
   "source": [
    "#this is provided for the activity as well.\n",
    "review_dates = [\n",
    "    datetime(2013, 12, 22, 0, 0),\n",
    "    datetime(2013, 12, 23, 0, 0),\n",
    "    datetime(2013, 12, 24, 0, 0),\n",
    "    datetime(2013, 12, 25, 0, 0),\n",
    "    datetime(2013, 12, 26, 0, 0),\n",
    "    datetime(2013, 12, 27, 0, 0),\n",
    "    datetime(2013, 12, 28, 0, 0),\n",
    "    datetime(2013, 12, 29, 0, 0),\n",
    "    datetime(2013, 12, 30, 0, 0),\n",
    "    datetime(2013, 12, 31, 0, 0)\n",
    "]"
   ]
  },
  {
   "cell_type": "markdown",
   "id": "2c9542c4",
   "metadata": {},
   "source": [
    "#### Activity Tasks\n",
    "\n",
    "- Import timedelta from the datetime module.\n",
    "- Build a timedelta of 30 days called glanceback using timedelta().\n",
    "- Iterate over the review_dates, using date as your iterator variable.\n",
    "- Calculate the date 30 days back by subtracting glanceback from date.\n",
    "- Print the date, along with 'day_type' and 'total_ridership' from daily_summaries for that date.\n",
    "- Print the prior_period_dt, along with 'day_type' and 'total_ridership' from daily_summaries for that date (prior_period_dt)."
   ]
  },
  {
   "cell_type": "code",
   "execution_count": 181,
   "id": "ed7263a8",
   "metadata": {},
   "outputs": [],
   "source": [
    "from datetime import timedelta"
   ]
  },
  {
   "cell_type": "code",
   "execution_count": 182,
   "id": "5ab5673b",
   "metadata": {},
   "outputs": [],
   "source": [
    "glanceback = timedelta(days = 30)"
   ]
  },
  {
   "cell_type": "code",
   "execution_count": 188,
   "id": "d2c291e9",
   "metadata": {},
   "outputs": [
    {
     "name": "stdout",
     "output_type": "stream",
     "text": [
      "Date: 2013-12-22 00:00:00, Type: U, Total Ridership: 310920\n",
      "Date: 2013-11-22 00:00:00, Type: W, Total Ridership: 797556\n",
      "Date: 2013-12-23 00:00:00, Type: W, Total Ridership: 545145\n",
      "Date: 2013-11-23 00:00:00, Type: A, Total Ridership: 513370\n",
      "Date: 2013-12-24 00:00:00, Type: W, Total Ridership: 341784\n",
      "Date: 2013-11-24 00:00:00, Type: U, Total Ridership: 311868\n",
      "Date: 2013-12-25 00:00:00, Type: U, Total Ridership: 144912\n",
      "Date: 2013-11-25 00:00:00, Type: W, Total Ridership: 742488\n",
      "Date: 2013-12-26 00:00:00, Type: W, Total Ridership: 438202\n",
      "Date: 2013-11-26 00:00:00, Type: W, Total Ridership: 768042\n",
      "Date: 2013-12-27 00:00:00, Type: W, Total Ridership: 531774\n",
      "Date: 2013-11-27 00:00:00, Type: W, Total Ridership: 655899\n",
      "Date: 2013-12-28 00:00:00, Type: A, Total Ridership: 405004\n",
      "Date: 2013-11-28 00:00:00, Type: U, Total Ridership: 238112\n",
      "Date: 2013-12-29 00:00:00, Type: U, Total Ridership: 292169\n",
      "Date: 2013-11-29 00:00:00, Type: W, Total Ridership: 448939\n",
      "Date: 2013-12-30 00:00:00, Type: W, Total Ridership: 537971\n",
      "Date: 2013-11-30 00:00:00, Type: A, Total Ridership: 419067\n",
      "Date: 2013-12-31 00:00:00, Type: W, Total Ridership: 565346\n",
      "Date: 2013-12-01 00:00:00, Type: U, Total Ridership: 311377\n"
     ]
    }
   ],
   "source": [
    "for date in review_dates:\n",
    "    prior_period_dt = date - glanceback \n",
    "    print('Date: %s, Type: %s, Total Ridership: %s' %\n",
    "         (date, \n",
    "          d[date]['day_type'], \n",
    "          d[date]['total_ridership']))\n",
    "    print('Date: %s, Type: %s, Total Ridership: %s' %\n",
    "         (prior_period_dt, \n",
    "          d[prior_period_dt]['day_type'], \n",
    "          d[prior_period_dt]['total_ridership']))"
   ]
  },
  {
   "cell_type": "code",
   "execution_count": 224,
   "id": "d1ffcb2f",
   "metadata": {},
   "outputs": [],
   "source": [
    "### For the next activity, they created a list of tuples called \n",
    "###'date_ranges' from the dataset at every 30th record, and paired\n",
    "### the records into tuples in a stepwise fasion\n",
    "\n",
    "### below, I did the process from scratch to avoid any confusions."
   ]
  },
  {
   "cell_type": "code",
   "execution_count": 223,
   "id": "9ecd31d5",
   "metadata": {},
   "outputs": [
    {
     "name": "stdout",
     "output_type": "stream",
     "text": [
      "[(datetime.datetime(2001, 1, 29, 0, 0), datetime.datetime(2001, 2, 28, 0, 0)),\n",
      " (datetime.datetime(2001, 2, 28, 0, 0), datetime.datetime(2001, 3, 30, 0, 0)),\n",
      " (datetime.datetime(2001, 3, 30, 0, 0), datetime.datetime(2001, 4, 29, 0, 0)),\n",
      " (datetime.datetime(2001, 4, 29, 0, 0), datetime.datetime(2001, 5, 29, 0, 0)),\n",
      " (datetime.datetime(2001, 5, 29, 0, 0), datetime.datetime(2001, 6, 28, 0, 0)),\n",
      " (datetime.datetime(2001, 6, 28, 0, 0), datetime.datetime(2001, 7, 28, 0, 0)),\n",
      " (datetime.datetime(2001, 7, 28, 0, 0), datetime.datetime(2001, 8, 27, 0, 0)),\n",
      " (datetime.datetime(2001, 8, 27, 0, 0), datetime.datetime(2001, 9, 26, 0, 0)),\n",
      " (datetime.datetime(2001, 9, 26, 0, 0), datetime.datetime(2001, 10, 26, 0, 0)),\n",
      " (datetime.datetime(2001, 10, 26, 0, 0), datetime.datetime(2001, 11, 25, 0, 0))]\n"
     ]
    }
   ],
   "source": [
    "date = []\n",
    "date_step = []\n",
    "date_ls = []\n",
    "\n",
    "for i in daily_summaries:\n",
    "    dates.append(i[0])\n",
    "\n",
    "for x in dates[29::30]:\n",
    "    date_step.append(datetime.strptime(x, '%m/%d/%Y'))\n",
    "\n",
    "for k in range(len(date_step)-1):\n",
    "    date_ls.append((date_step[k], date_step[k+1]))\n",
    "    \n",
    "pprint.pprint(date_ls[:10])"
   ]
  },
  {
   "cell_type": "code",
   "execution_count": 201,
   "id": "1769146f",
   "metadata": {},
   "outputs": [
    {
     "data": {
      "text/plain": [
       "[]"
      ]
     },
     "execution_count": 201,
     "metadata": {},
     "output_type": "execute_result"
    }
   ],
   "source": [
    "date_range"
   ]
  },
  {
   "cell_type": "markdown",
   "id": "39510f96",
   "metadata": {},
   "source": [
    "#### Activity Tasks\n",
    "\n",
    "- Iterate over `date_ls`, unpacking it into `start_date` and `end_date`.\n",
    "- Print the `end_date` and `start_date` using the same print() function.\n",
    "- Print the difference between each `end_date` and `start_date`."
   ]
  },
  {
   "cell_type": "code",
   "execution_count": 230,
   "id": "5afc60c0",
   "metadata": {},
   "outputs": [
    {
     "name": "stdout",
     "output_type": "stream",
     "text": [
      "2001-02-28 00:00:00 2001-01-29 00:00:00\n",
      "30 days, 0:00:00\n",
      "2001-03-30 00:00:00 2001-02-28 00:00:00\n",
      "30 days, 0:00:00\n",
      "2001-04-29 00:00:00 2001-03-30 00:00:00\n",
      "30 days, 0:00:00\n",
      "2001-05-29 00:00:00 2001-04-29 00:00:00\n",
      "30 days, 0:00:00\n",
      "2001-06-28 00:00:00 2001-05-29 00:00:00\n",
      "30 days, 0:00:00\n",
      "2001-07-28 00:00:00 2001-06-28 00:00:00\n",
      "30 days, 0:00:00\n",
      "2001-08-27 00:00:00 2001-07-28 00:00:00\n",
      "30 days, 0:00:00\n",
      "2001-09-26 00:00:00 2001-08-27 00:00:00\n",
      "30 days, 0:00:00\n"
     ]
    }
   ],
   "source": [
    "for start_date, end_date in date_ls[:8]:\n",
    "    print(end_date, start_date)\n",
    "    print(end_date - start_date)"
   ]
  },
  {
   "cell_type": "markdown",
   "id": "2e1368c5",
   "metadata": {},
   "source": [
    "# III. Libraries to deal with date/time\n",
    "\n",
    "### 1. Parsing with pendulum\n",
    "\n",
    "- `.parse()` attempts to convert a string to a pendulum datetime object without the need of the format string\n",
    "\n",
    "### 2. Timezone hopping in Pendulum\n",
    "\n",
    "- `.in_timezone()` method converts a pendulum time object to a desired timezone.\n",
    "- `.now()` method accepts a timezone you want to get the current time in.\n",
    "\n",
    "### 3. Humanizing differences\n",
    "\n",
    "- `.in_XXX()` methods provide the difference in a chosen metric such as days\n",
    "- "
   ]
  },
  {
   "cell_type": "code",
   "execution_count": null,
   "id": "560311ba",
   "metadata": {},
   "outputs": [],
   "source": []
  }
 ],
 "metadata": {
  "kernelspec": {
   "display_name": "Python 3 (ipykernel)",
   "language": "python",
   "name": "python3"
  },
  "language_info": {
   "codemirror_mode": {
    "name": "ipython",
    "version": 3
   },
   "file_extension": ".py",
   "mimetype": "text/x-python",
   "name": "python",
   "nbconvert_exporter": "python",
   "pygments_lexer": "ipython3",
   "version": "3.9.7"
  }
 },
 "nbformat": 4,
 "nbformat_minor": 5
}
