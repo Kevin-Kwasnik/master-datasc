{
 "cells": [
  {
   "cell_type": "code",
   "execution_count": 1,
   "id": "4d4126a1",
   "metadata": {},
   "outputs": [],
   "source": [
    "import pandas as pd"
   ]
  },
  {
   "cell_type": "markdown",
   "id": "4c1a637d",
   "metadata": {},
   "source": [
    "#### Part 1. Tasks:\n",
    "- Import the Python csv module.\n",
    "- Create a Python file object in read mode for crime_sampler.csv called csvfile.\n",
    "- Create an empty list called crime_data.\n",
    "- Loop over a csv reader on the file object :\n",
    "- Inside the loop, append the date (first element), type of crime (third element), location description (fifth element), and arrest (sixth element) to the crime_data list.\n",
    "- Remove the first element (headers) from the crime_data list.\n",
    "- Print the first 10 records of the crime_data list. This has been done for you, so hit 'Submit Answer' to see the result!"
   ]
  },
  {
   "cell_type": "code",
   "execution_count": 2,
   "id": "ed5e7c93",
   "metadata": {},
   "outputs": [],
   "source": [
    "crime_info = pd.read_csv('https://assets.datacamp.com/production/repositories/906/datasets/7fe0304955dbf05e3a0d57c8959578dcef479e81/crime_sampler.csv', sep = ',')"
   ]
  },
  {
   "cell_type": "code",
   "execution_count": 3,
   "id": "6abf3bf7",
   "metadata": {},
   "outputs": [
    {
     "data": {
      "text/html": [
       "<div>\n",
       "<style scoped>\n",
       "    .dataframe tbody tr th:only-of-type {\n",
       "        vertical-align: middle;\n",
       "    }\n",
       "\n",
       "    .dataframe tbody tr th {\n",
       "        vertical-align: top;\n",
       "    }\n",
       "\n",
       "    .dataframe thead th {\n",
       "        text-align: right;\n",
       "    }\n",
       "</style>\n",
       "<table border=\"1\" class=\"dataframe\">\n",
       "  <thead>\n",
       "    <tr style=\"text-align: right;\">\n",
       "      <th></th>\n",
       "      <th>Date</th>\n",
       "      <th>Block</th>\n",
       "      <th>Primary Type</th>\n",
       "      <th>Description</th>\n",
       "      <th>Location Description</th>\n",
       "      <th>Arrest</th>\n",
       "      <th>Domestic</th>\n",
       "      <th>District</th>\n",
       "    </tr>\n",
       "  </thead>\n",
       "  <tbody>\n",
       "    <tr>\n",
       "      <th>0</th>\n",
       "      <td>05/23/2016 05:35:00 PM</td>\n",
       "      <td>024XX W DIVISION ST</td>\n",
       "      <td>ASSAULT</td>\n",
       "      <td>SIMPLE</td>\n",
       "      <td>STREET</td>\n",
       "      <td>False</td>\n",
       "      <td>True</td>\n",
       "      <td>14</td>\n",
       "    </tr>\n",
       "    <tr>\n",
       "      <th>1</th>\n",
       "      <td>03/26/2016 08:20:00 PM</td>\n",
       "      <td>019XX W HOWARD ST</td>\n",
       "      <td>BURGLARY</td>\n",
       "      <td>FORCIBLE ENTRY</td>\n",
       "      <td>SMALL RETAIL STORE</td>\n",
       "      <td>False</td>\n",
       "      <td>False</td>\n",
       "      <td>24</td>\n",
       "    </tr>\n",
       "    <tr>\n",
       "      <th>2</th>\n",
       "      <td>04/25/2016 03:05:00 PM</td>\n",
       "      <td>001XX W 79TH ST</td>\n",
       "      <td>THEFT</td>\n",
       "      <td>RETAIL THEFT</td>\n",
       "      <td>DEPARTMENT STORE</td>\n",
       "      <td>True</td>\n",
       "      <td>False</td>\n",
       "      <td>6</td>\n",
       "    </tr>\n",
       "    <tr>\n",
       "      <th>3</th>\n",
       "      <td>04/26/2016 05:30:00 PM</td>\n",
       "      <td>010XX N PINE AVE</td>\n",
       "      <td>BATTERY</td>\n",
       "      <td>SIMPLE</td>\n",
       "      <td>SIDEWALK</td>\n",
       "      <td>False</td>\n",
       "      <td>False</td>\n",
       "      <td>15</td>\n",
       "    </tr>\n",
       "    <tr>\n",
       "      <th>4</th>\n",
       "      <td>06/19/2016 01:15:00 AM</td>\n",
       "      <td>027XX W AUGUSTA BLVD</td>\n",
       "      <td>BATTERY</td>\n",
       "      <td>AGGRAVATED: HANDGUN</td>\n",
       "      <td>SIDEWALK</td>\n",
       "      <td>False</td>\n",
       "      <td>False</td>\n",
       "      <td>12</td>\n",
       "    </tr>\n",
       "  </tbody>\n",
       "</table>\n",
       "</div>"
      ],
      "text/plain": [
       "                     Date                 Block Primary Type  \\\n",
       "0  05/23/2016 05:35:00 PM   024XX W DIVISION ST      ASSAULT   \n",
       "1  03/26/2016 08:20:00 PM     019XX W HOWARD ST     BURGLARY   \n",
       "2  04/25/2016 03:05:00 PM       001XX W 79TH ST        THEFT   \n",
       "3  04/26/2016 05:30:00 PM      010XX N PINE AVE      BATTERY   \n",
       "4  06/19/2016 01:15:00 AM  027XX W AUGUSTA BLVD      BATTERY   \n",
       "\n",
       "           Description Location Description  Arrest  Domestic  District  \n",
       "0               SIMPLE               STREET   False      True        14  \n",
       "1       FORCIBLE ENTRY   SMALL RETAIL STORE   False     False        24  \n",
       "2         RETAIL THEFT     DEPARTMENT STORE    True     False         6  \n",
       "3               SIMPLE             SIDEWALK   False     False        15  \n",
       "4  AGGRAVATED: HANDGUN             SIDEWALK   False     False        12  "
      ]
     },
     "execution_count": 3,
     "metadata": {},
     "output_type": "execute_result"
    }
   ],
   "source": [
    "crime_info.head()"
   ]
  },
  {
   "cell_type": "code",
   "execution_count": 4,
   "id": "9e9ba0d6",
   "metadata": {},
   "outputs": [],
   "source": [
    "crime_data = []\n",
    "\n",
    "for row in range(len(crime_info)):\n",
    "    crime_data.append([\n",
    "        crime_info.loc[row, \"Date\"],\n",
    "        crime_info.loc[row, \"Primary Type\"],\n",
    "        crime_info.loc[row, \"Location Description\"],\n",
    "        crime_info.loc[row, \"Arrest\"]\n",
    "    ])"
   ]
  },
  {
   "cell_type": "code",
   "execution_count": 5,
   "id": "6cd62257",
   "metadata": {},
   "outputs": [
    {
     "data": {
      "text/plain": [
       "[['05/23/2016 05:35:00 PM', 'ASSAULT', 'STREET', False],\n",
       " ['03/26/2016 08:20:00 PM', 'BURGLARY', 'SMALL RETAIL STORE', False],\n",
       " ['04/25/2016 03:05:00 PM', 'THEFT', 'DEPARTMENT STORE', True],\n",
       " ['04/26/2016 05:30:00 PM', 'BATTERY', 'SIDEWALK', False],\n",
       " ['06/19/2016 01:15:00 AM', 'BATTERY', 'SIDEWALK', False]]"
      ]
     },
     "execution_count": 5,
     "metadata": {},
     "output_type": "execute_result"
    }
   ],
   "source": [
    "crime_data[:5]"
   ]
  },
  {
   "cell_type": "code",
   "execution_count": 6,
   "id": "735eceb1",
   "metadata": {},
   "outputs": [
    {
     "data": {
      "text/plain": [
       "[['02/07/2016 12:34:00 PM', 'OTHER OFFENSE', 'RESIDENCE', False],\n",
       " ['08/19/2016 08:55:00 AM', 'THEFT', 'SMALL RETAIL STORE', False],\n",
       " ['02/15/2016 08:00:00 AM', 'THEFT', 'APARTMENT', False],\n",
       " ['10/21/2016 11:00:00 PM', 'THEFT', 'STREET', False],\n",
       " ['01/20/2017 10:31:00 PM',\n",
       "  'INTERFERENCE WITH PUBLIC OFFICER',\n",
       "  'STREET',\n",
       "  True]]"
      ]
     },
     "execution_count": 6,
     "metadata": {},
     "output_type": "execute_result"
    }
   ],
   "source": [
    "crime_data[-5:]"
   ]
  },
  {
   "cell_type": "markdown",
   "id": "5b01066a",
   "metadata": {},
   "source": [
    "#### Part 2. Tasks:\n",
    "\n",
    "- Import Counter from collections and datetime from datetime.\n",
    "- Create a Counter object called crimes_by_month.\n",
    "- Loop over the crime_data list:\n",
    "- Using the datetime.strptime() function, convert the first element of each item into a Python Datetime Object called date.\n",
    "- Increment the counter for the month associated with this row by one. You can access the month of date using date.month.\n",
    "- Print the 3 most common months for crime."
   ]
  },
  {
   "cell_type": "code",
   "execution_count": 7,
   "id": "8c65dc80",
   "metadata": {},
   "outputs": [],
   "source": [
    "from collections import Counter\n",
    "from datetime import datetime"
   ]
  },
  {
   "cell_type": "code",
   "execution_count": 8,
   "id": "70da5836",
   "metadata": {},
   "outputs": [],
   "source": [
    "crimes_by_month = Counter()"
   ]
  },
  {
   "cell_type": "code",
   "execution_count": 9,
   "id": "ffff70fb",
   "metadata": {},
   "outputs": [
    {
     "name": "stdout",
     "output_type": "stream",
     "text": [
      "[(1, 1948), (2, 1862), (7, 1257)]\n"
     ]
    }
   ],
   "source": [
    "for row in crime_data:\n",
    "    date = datetime.strptime(row[0], '%m/%d/%Y %I:%M:%S %p')\n",
    "    crimes_by_month[date.month] += 1\n",
    "    \n",
    "print(crimes_by_month.most_common(3))\n"
   ]
  },
  {
   "cell_type": "markdown",
   "id": "acd82fb3",
   "metadata": {},
   "source": [
    "#### Part 3. Tasks:\n",
    "\n",
    "- Import defaultdict from collections and datetime from datetime.\n",
    "- Create a dictionary that defaults to a list called locations_by_month.\n",
    "- Loop over the crime_data list:\n",
    "    - Convert the first element to a date object exactly like you did in the previous exercise.\n",
    "    - If the year is 2016, set the key of locations_by_month to be the month of date and .append() the location (fifth element of row) to the values list.\n",
    "- Print the dictionary."
   ]
  },
  {
   "cell_type": "code",
   "execution_count": 10,
   "id": "212fe391",
   "metadata": {},
   "outputs": [],
   "source": [
    "from collections import defaultdict"
   ]
  },
  {
   "cell_type": "code",
   "execution_count": 11,
   "id": "f360bab4",
   "metadata": {},
   "outputs": [],
   "source": [
    "locations_by_month = defaultdict(list)"
   ]
  },
  {
   "cell_type": "code",
   "execution_count": 12,
   "id": "fbb4bedc",
   "metadata": {},
   "outputs": [],
   "source": [
    "for row in crime_data:\n",
    "    date = datetime.strptime(row[0], '%m/%d/%Y %I:%M:%S %p')\n",
    "    if date.year == 2016:\n",
    "        locations_by_month[date.month].append(row[2])\n",
    "        \n",
    "# print(locations_by_month)\n"
   ]
  },
  {
   "cell_type": "markdown",
   "id": "30f8b1ee",
   "metadata": {},
   "source": [
    "#### Part 4. Tasks:\n",
    "\n",
    "- Loop over the items from your dictionary, using tuple expansion to unpack locations_by_month.items() into month and locations.\n",
    "- Make a Counter of the locations called location_count.\n",
    "- Print the month.\n",
    "- Print the five most common crime locations.\n"
   ]
  },
  {
   "cell_type": "code",
   "execution_count": 13,
   "id": "879f8904",
   "metadata": {},
   "outputs": [
    {
     "name": "stdout",
     "output_type": "stream",
     "text": [
      "5\n",
      "3\n",
      "4\n",
      "6\n",
      "7\n",
      "10\n",
      "12\n",
      "1\n",
      "9\n",
      "11\n",
      "8\n",
      "2\n"
     ]
    }
   ],
   "source": [
    "for month, locations in locations_by_month.items():\n",
    "    location_count = Counter(locations)\n",
    "    print(month)\n",
    "    #print(location_count.most_common(5))"
   ]
  },
  {
   "cell_type": "markdown",
   "id": "c082618c",
   "metadata": {},
   "source": [
    "#### Part 5. Tasks:\n",
    "\n",
    "- Create a Python file object in read mode for crime_sampler.csv called csvfile.\n",
    "- Create a dictionary that defaults to a list called crimes_by_district.\n",
    "- Loop over a DictReader of the CSV file:\n",
    "- Pop 'District' from each row and store it as district.\n",
    "- Append the rest of the data (row) to the district key of crimes_by_district."
   ]
  },
  {
   "cell_type": "code",
   "execution_count": 14,
   "id": "e0b473d7",
   "metadata": {},
   "outputs": [],
   "source": [
    "# solution found to use dictreader on http csv files\n",
    "\n",
    "\n",
    "import requests\n",
    "from contextlib import closing\n",
    "import csv\n",
    "\n",
    "url = 'https://assets.datacamp.com/production/repositories/906/datasets/7fe0304955dbf05e3a0d57c8959578dcef479e81/crime_sampler.csv'\n",
    "\n",
    "crimes_by_district = defaultdict(list)\n",
    "\n",
    "with closing(requests.get(url, stream=True)) as r:\n",
    "    f = (line.decode('utf-8') for line in r.iter_lines())\n",
    "    reader = csv.DictReader(f, delimiter=',', quotechar='\"')\n",
    "    for row in reader:\n",
    "        district = row.pop('District')\n",
    "        crimes_by_district[district].append(row)"
   ]
  },
  {
   "cell_type": "code",
   "execution_count": 15,
   "id": "cc6a6368",
   "metadata": {},
   "outputs": [
    {
     "data": {
      "text/plain": [
       "dict_keys(['14', '24', '6', '15', '12', '7', '1', '11', '18', '22', '5', '16', '9', '8', '3', '2', '19', '10', '4', '17', '20', '25', '31'])"
      ]
     },
     "execution_count": 15,
     "metadata": {},
     "output_type": "execute_result"
    }
   ],
   "source": [
    "crimes_by_district.keys()"
   ]
  },
  {
   "cell_type": "code",
   "execution_count": 16,
   "id": "d6cfd6e0",
   "metadata": {},
   "outputs": [],
   "source": [
    "# crimes_by_district\n",
    "# uncomment the above to see the created dictionary organized\n",
    "# with all information assigned to the district keys above"
   ]
  },
  {
   "cell_type": "markdown",
   "id": "94c7dff6",
   "metadata": {},
   "source": [
    "#### Part 6. Tasks:\n",
    "\n",
    "- Loop over the crimes_by_district dictionary, unpacking it into the variables district and crimes.\n",
    "    - Create an empty Counter object called year_count.\n",
    "        - Loop over the crimes:\n",
    "            - If there was an arrest, Convert crime['Date'] to a datetime object called year.\n",
    "            - Add the crime to the Counter for the year, by using year as the key of year_count.\n",
    "- Print the Counter. "
   ]
  },
  {
   "cell_type": "code",
   "execution_count": 26,
   "id": "66cb074e",
   "metadata": {},
   "outputs": [
    {
     "name": "stdout",
     "output_type": "stream",
     "text": [
      "14\n",
      "Counter({2016: 59, 2017: 8})\n",
      "24\n",
      "Counter({2016: 51, 2017: 10})\n",
      "6\n",
      "Counter({2016: 157, 2017: 32})\n",
      "15\n",
      "Counter({2016: 154, 2017: 16})\n",
      "12\n",
      "Counter({2016: 72, 2017: 9})\n",
      "7\n",
      "Counter({2016: 181, 2017: 27})\n",
      "1\n",
      "Counter({2016: 124, 2017: 15})\n",
      "11\n",
      "Counter({2016: 275, 2017: 53})\n",
      "18\n",
      "Counter({2016: 92, 2017: 17})\n",
      "22\n",
      "Counter({2016: 78, 2017: 12})\n",
      "5\n",
      "Counter({2016: 149, 2017: 30})\n",
      "16\n",
      "Counter({2016: 66, 2017: 9})\n",
      "9\n",
      "Counter({2016: 116, 2017: 17})\n",
      "8\n",
      "Counter({2016: 124, 2017: 26})\n",
      "3\n",
      "Counter({2016: 98, 2017: 18})\n",
      "2\n",
      "Counter({2016: 84, 2017: 15})\n",
      "19\n",
      "Counter({2016: 88, 2017: 11})\n",
      "10\n",
      "Counter({2016: 144, 2017: 20})\n",
      "4\n",
      "Counter({2016: 134, 2017: 15})\n",
      "17\n",
      "Counter({2016: 38, 2017: 5})\n",
      "20\n",
      "Counter({2016: 27, 2017: 8})\n",
      "25\n",
      "Counter({2016: 150, 2017: 26})\n",
      "31\n",
      "Counter({2016: 1})\n"
     ]
    }
   ],
   "source": [
    "# the main goal here is to print the crimes by district\n",
    "\n",
    "for district, crimes in crimes_by_district.items():\n",
    "    print(district)\n",
    "    \n",
    "    year_count = Counter()\n",
    "    \n",
    "    for crime in crimes:\n",
    "        if crime['Arrest'] == 'true':\n",
    "            year = datetime.strptime(crime['Date'], '%m/%d/%Y %I:%M:%S %p').year\n",
    "            year_count[year] += 1\n",
    "            \n",
    "    print(year_count)\n",
    "    "
   ]
  },
  {
   "cell_type": "code",
   "execution_count": 33,
   "id": "2f2cee93",
   "metadata": {},
   "outputs": [],
   "source": [
    "### for part 7 the dictionary needs to be reorganized \n",
    "### to crimes by block\n",
    "\n",
    "crimes_by_block = defaultdict(list)\n",
    "\n",
    "with closing(requests.get(url, stream=True)) as r:\n",
    "    f = (line.decode('utf-8') for line in r.iter_lines())\n",
    "    reader = csv.DictReader(f, delimiter=',', quotechar='\"')\n",
    "    for row in reader:\n",
    "        block = row.pop('Block')\n",
    "        crimes_by_block[block].append(row['Primary Type'])"
   ]
  },
  {
   "cell_type": "code",
   "execution_count": 34,
   "id": "3009eb5a",
   "metadata": {},
   "outputs": [
    {
     "data": {
      "text/plain": [
       "['ASSAULT', 'THEFT', 'BURGLARY']"
      ]
     },
     "execution_count": 34,
     "metadata": {},
     "output_type": "execute_result"
    }
   ],
   "source": [
    "crimes_by_block['024XX W DIVISION ST']"
   ]
  },
  {
   "cell_type": "markdown",
   "id": "13693b24",
   "metadata": {},
   "source": [
    "#### Part 7. Tasks:\n",
    "\n",
    "- Create a unique list of crimes for the '001XX N STATE ST' block called n_state_st_crimes and print it.\n",
    "- Create a unique list of crimes for the '0000X W TERMINAL ST' block called w_terminal_st_crimes and print it.\n",
    "- Find the crimes committed on 001XX N STATE ST but not 0000X W TERMINAL ST. Store the result as crime_differences and print it."
   ]
  },
  {
   "cell_type": "code",
   "execution_count": 37,
   "id": "86ff1349",
   "metadata": {},
   "outputs": [
    {
     "name": "stdout",
     "output_type": "stream",
     "text": [
      "{'DECEPTIVE PRACTICE', 'CRIMINAL DAMAGE', 'ASSAULT', 'CRIMINAL TRESPASS', 'OTHER OFFENSE', 'ROBBERY', 'BATTERY', 'THEFT'}\n",
      "{'DECEPTIVE PRACTICE', 'CRIMINAL DAMAGE', 'ASSAULT', 'PUBLIC PEACE VIOLATION', 'NARCOTICS', 'OTHER OFFENSE', 'CRIMINAL TRESPASS', 'THEFT'}\n",
      "{'ROBBERY', 'BATTERY'}\n"
     ]
    }
   ],
   "source": [
    "n_state_st_crimes = set(crimes_by_block['001XX N STATE ST'])\n",
    "print(n_state_st_crimes)\n",
    "\n",
    "w_terminal_st_crimes = set(crimes_by_block['0000X W TERMINAL ST'])\n",
    "print(w_terminal_st_crimes)\n",
    "\n",
    "crime_differences = n_state_st_crimes.difference(w_terminal_st_crimes)\n",
    "print(crime_differences)"
   ]
  },
  {
   "cell_type": "code",
   "execution_count": null,
   "id": "fba85a3e",
   "metadata": {},
   "outputs": [],
   "source": []
  }
 ],
 "metadata": {
  "kernelspec": {
   "display_name": "Python 3 (ipykernel)",
   "language": "python",
   "name": "python3"
  },
  "language_info": {
   "codemirror_mode": {
    "name": "ipython",
    "version": 3
   },
   "file_extension": ".py",
   "mimetype": "text/x-python",
   "name": "python",
   "nbconvert_exporter": "python",
   "pygments_lexer": "ipython3",
   "version": "3.9.7"
  }
 },
 "nbformat": 4,
 "nbformat_minor": 5
}
