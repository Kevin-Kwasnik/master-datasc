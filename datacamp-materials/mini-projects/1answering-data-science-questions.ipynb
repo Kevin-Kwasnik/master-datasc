{
 "cells": [
  {
   "cell_type": "code",
   "execution_count": 1,
   "id": "0df0c70a",
   "metadata": {},
   "outputs": [],
   "source": [
    "import pandas as pd"
   ]
  },
  {
   "cell_type": "markdown",
   "id": "08a154d2",
   "metadata": {},
   "source": [
    "#### Part 1. Tasks:\n",
    "- Import the Python csv module.\n",
    "- Create a Python file object in read mode for crime_sampler.csv called csvfile.\n",
    "- Create an empty list called crime_data.\n",
    "- Loop over a csv reader on the file object :\n",
    "- Inside the loop, append the date (first element), type of crime (third element), location description (fifth element), and arrest (sixth element) to the crime_data list.\n",
    "- Remove the first element (headers) from the crime_data list.\n",
    "- Print the first 10 records of the crime_data list. This has been done for you, so hit 'Submit Answer' to see the result!"
   ]
  },
  {
   "cell_type": "code",
   "execution_count": 2,
   "id": "c04cc367",
   "metadata": {},
   "outputs": [],
   "source": [
    "crime_info = pd.read_csv('https://assets.datacamp.com/production/repositories/906/datasets/7fe0304955dbf05e3a0d57c8959578dcef479e81/crime_sampler.csv', sep = ',')"
   ]
  },
  {
   "cell_type": "code",
   "execution_count": 3,
   "id": "d2d2e47f",
   "metadata": {},
   "outputs": [
    {
     "data": {
      "text/html": [
       "<div>\n",
       "<style scoped>\n",
       "    .dataframe tbody tr th:only-of-type {\n",
       "        vertical-align: middle;\n",
       "    }\n",
       "\n",
       "    .dataframe tbody tr th {\n",
       "        vertical-align: top;\n",
       "    }\n",
       "\n",
       "    .dataframe thead th {\n",
       "        text-align: right;\n",
       "    }\n",
       "</style>\n",
       "<table border=\"1\" class=\"dataframe\">\n",
       "  <thead>\n",
       "    <tr style=\"text-align: right;\">\n",
       "      <th></th>\n",
       "      <th>Date</th>\n",
       "      <th>Block</th>\n",
       "      <th>Primary Type</th>\n",
       "      <th>Description</th>\n",
       "      <th>Location Description</th>\n",
       "      <th>Arrest</th>\n",
       "      <th>Domestic</th>\n",
       "      <th>District</th>\n",
       "    </tr>\n",
       "  </thead>\n",
       "  <tbody>\n",
       "    <tr>\n",
       "      <th>0</th>\n",
       "      <td>05/23/2016 05:35:00 PM</td>\n",
       "      <td>024XX W DIVISION ST</td>\n",
       "      <td>ASSAULT</td>\n",
       "      <td>SIMPLE</td>\n",
       "      <td>STREET</td>\n",
       "      <td>False</td>\n",
       "      <td>True</td>\n",
       "      <td>14</td>\n",
       "    </tr>\n",
       "    <tr>\n",
       "      <th>1</th>\n",
       "      <td>03/26/2016 08:20:00 PM</td>\n",
       "      <td>019XX W HOWARD ST</td>\n",
       "      <td>BURGLARY</td>\n",
       "      <td>FORCIBLE ENTRY</td>\n",
       "      <td>SMALL RETAIL STORE</td>\n",
       "      <td>False</td>\n",
       "      <td>False</td>\n",
       "      <td>24</td>\n",
       "    </tr>\n",
       "    <tr>\n",
       "      <th>2</th>\n",
       "      <td>04/25/2016 03:05:00 PM</td>\n",
       "      <td>001XX W 79TH ST</td>\n",
       "      <td>THEFT</td>\n",
       "      <td>RETAIL THEFT</td>\n",
       "      <td>DEPARTMENT STORE</td>\n",
       "      <td>True</td>\n",
       "      <td>False</td>\n",
       "      <td>6</td>\n",
       "    </tr>\n",
       "    <tr>\n",
       "      <th>3</th>\n",
       "      <td>04/26/2016 05:30:00 PM</td>\n",
       "      <td>010XX N PINE AVE</td>\n",
       "      <td>BATTERY</td>\n",
       "      <td>SIMPLE</td>\n",
       "      <td>SIDEWALK</td>\n",
       "      <td>False</td>\n",
       "      <td>False</td>\n",
       "      <td>15</td>\n",
       "    </tr>\n",
       "    <tr>\n",
       "      <th>4</th>\n",
       "      <td>06/19/2016 01:15:00 AM</td>\n",
       "      <td>027XX W AUGUSTA BLVD</td>\n",
       "      <td>BATTERY</td>\n",
       "      <td>AGGRAVATED: HANDGUN</td>\n",
       "      <td>SIDEWALK</td>\n",
       "      <td>False</td>\n",
       "      <td>False</td>\n",
       "      <td>12</td>\n",
       "    </tr>\n",
       "  </tbody>\n",
       "</table>\n",
       "</div>"
      ],
      "text/plain": [
       "                     Date                 Block Primary Type  \\\n",
       "0  05/23/2016 05:35:00 PM   024XX W DIVISION ST      ASSAULT   \n",
       "1  03/26/2016 08:20:00 PM     019XX W HOWARD ST     BURGLARY   \n",
       "2  04/25/2016 03:05:00 PM       001XX W 79TH ST        THEFT   \n",
       "3  04/26/2016 05:30:00 PM      010XX N PINE AVE      BATTERY   \n",
       "4  06/19/2016 01:15:00 AM  027XX W AUGUSTA BLVD      BATTERY   \n",
       "\n",
       "           Description Location Description  Arrest  Domestic  District  \n",
       "0               SIMPLE               STREET   False      True        14  \n",
       "1       FORCIBLE ENTRY   SMALL RETAIL STORE   False     False        24  \n",
       "2         RETAIL THEFT     DEPARTMENT STORE    True     False         6  \n",
       "3               SIMPLE             SIDEWALK   False     False        15  \n",
       "4  AGGRAVATED: HANDGUN             SIDEWALK   False     False        12  "
      ]
     },
     "execution_count": 3,
     "metadata": {},
     "output_type": "execute_result"
    }
   ],
   "source": [
    "crime_info.head()"
   ]
  },
  {
   "cell_type": "code",
   "execution_count": 4,
   "id": "91d8a1cb",
   "metadata": {},
   "outputs": [],
   "source": [
    "crime_data = []\n",
    "\n",
    "for row in range(len(crime_info)):\n",
    "    crime_data.append([\n",
    "        crime_info.loc[row, \"Date\"],\n",
    "        crime_info.loc[row, \"Primary Type\"],\n",
    "        crime_info.loc[row, \"Location Description\"],\n",
    "        crime_info.loc[row, \"Arrest\"]\n",
    "    ])"
   ]
  },
  {
   "cell_type": "code",
   "execution_count": 5,
   "id": "2fe54281",
   "metadata": {},
   "outputs": [
    {
     "data": {
      "text/plain": [
       "[['05/23/2016 05:35:00 PM', 'ASSAULT', 'STREET', False],\n",
       " ['03/26/2016 08:20:00 PM', 'BURGLARY', 'SMALL RETAIL STORE', False],\n",
       " ['04/25/2016 03:05:00 PM', 'THEFT', 'DEPARTMENT STORE', True],\n",
       " ['04/26/2016 05:30:00 PM', 'BATTERY', 'SIDEWALK', False],\n",
       " ['06/19/2016 01:15:00 AM', 'BATTERY', 'SIDEWALK', False]]"
      ]
     },
     "execution_count": 5,
     "metadata": {},
     "output_type": "execute_result"
    }
   ],
   "source": [
    "crime_data[:5]"
   ]
  },
  {
   "cell_type": "code",
   "execution_count": 6,
   "id": "90c2135f",
   "metadata": {},
   "outputs": [
    {
     "data": {
      "text/plain": [
       "[['02/07/2016 12:34:00 PM', 'OTHER OFFENSE', 'RESIDENCE', False],\n",
       " ['08/19/2016 08:55:00 AM', 'THEFT', 'SMALL RETAIL STORE', False],\n",
       " ['02/15/2016 08:00:00 AM', 'THEFT', 'APARTMENT', False],\n",
       " ['10/21/2016 11:00:00 PM', 'THEFT', 'STREET', False],\n",
       " ['01/20/2017 10:31:00 PM',\n",
       "  'INTERFERENCE WITH PUBLIC OFFICER',\n",
       "  'STREET',\n",
       "  True]]"
      ]
     },
     "execution_count": 6,
     "metadata": {},
     "output_type": "execute_result"
    }
   ],
   "source": [
    "crime_data[-5:]"
   ]
  },
  {
   "cell_type": "markdown",
   "id": "be22e68c",
   "metadata": {},
   "source": [
    "#### Part 2. Tasks:\n",
    "\n",
    "- Import Counter from collections and datetime from datetime.\n",
    "- Create a Counter object called crimes_by_month.\n",
    "- Loop over the crime_data list:\n",
    "- Using the datetime.strptime() function, convert the first element of each item into a Python Datetime Object called date.\n",
    "- Increment the counter for the month associated with this row by one. You can access the month of date using date.month.\n",
    "- Print the 3 most common months for crime."
   ]
  },
  {
   "cell_type": "code",
   "execution_count": 7,
   "id": "63cb686d",
   "metadata": {},
   "outputs": [],
   "source": [
    "from collections import Counter\n",
    "from datetime import datetime"
   ]
  },
  {
   "cell_type": "code",
   "execution_count": 8,
   "id": "f1ca25b3",
   "metadata": {},
   "outputs": [],
   "source": [
    "crimes_by_month = Counter()"
   ]
  },
  {
   "cell_type": "code",
   "execution_count": 9,
   "id": "9d5e8830",
   "metadata": {},
   "outputs": [
    {
     "name": "stdout",
     "output_type": "stream",
     "text": [
      "[(1, 1948), (2, 1862), (7, 1257)]\n"
     ]
    }
   ],
   "source": [
    "for row in crime_data:\n",
    "    date = datetime.strptime(row[0], '%m/%d/%Y %I:%M:%S %p')\n",
    "    crimes_by_month[date.month] += 1\n",
    "    \n",
    "print(crimes_by_month.most_common(3))\n"
   ]
  },
  {
   "cell_type": "markdown",
   "id": "5584bcdc",
   "metadata": {},
   "source": [
    "#### Part 3. Tasks:\n",
    "\n",
    "- Import defaultdict from collections and datetime from datetime.\n",
    "- Create a dictionary that defaults to a list called locations_by_month.\n",
    "- Loop over the crime_data list:\n",
    "    - Convert the first element to a date object exactly like you did in the previous exercise.\n",
    "    - If the year is 2016, set the key of locations_by_month to be the month of date and .append() the location (fifth element of row) to the values list.\n",
    "- Print the dictionary."
   ]
  },
  {
   "cell_type": "code",
   "execution_count": 10,
   "id": "e7b51cf5",
   "metadata": {},
   "outputs": [],
   "source": [
    "from collections import defaultdict"
   ]
  },
  {
   "cell_type": "code",
   "execution_count": 11,
   "id": "97b0a151",
   "metadata": {},
   "outputs": [],
   "source": [
    "locations_by_month = defaultdict(list)"
   ]
  },
  {
   "cell_type": "code",
   "execution_count": 22,
   "id": "69511c04",
   "metadata": {},
   "outputs": [],
   "source": [
    "for row in crime_data:\n",
    "    date = datetime.strptime(row[0], '%m/%d/%Y %I:%M:%S %p')\n",
    "    if date.year == 2016:\n",
    "        locations_by_month[date.month].append(row[2])\n",
    "        \n",
    "# print(locations_by_month)\n"
   ]
  },
  {
   "cell_type": "code",
   "execution_count": null,
   "id": "67fe32c1",
   "metadata": {},
   "outputs": [],
   "source": []
  },
  {
   "cell_type": "code",
   "execution_count": null,
   "id": "de476a82",
   "metadata": {},
   "outputs": [],
   "source": []
  },
  {
   "cell_type": "markdown",
   "id": "01421cd2",
   "metadata": {},
   "source": [
    "#### Alternative method using csv.reader for Part 1.\n",
    "```python\n",
    "\n",
    "import csv\n",
    "\n",
    "csvfile = open('crime_sampler.csv', 'r')\n",
    "crime_data2 = []\n",
    "\n",
    "for row in csv.reader(csvfile):\n",
    "    crime_data2.append((row[0], row[2], row[4], row[5]))    \n",
    "\n",
    "crime_data.pop(0)\n",
    "\n",
    "print(crime_data2[:10])\n",
    "```"
   ]
  },
  {
   "cell_type": "code",
   "execution_count": null,
   "id": "c5289a08",
   "metadata": {},
   "outputs": [],
   "source": []
  }
 ],
 "metadata": {
  "kernelspec": {
   "display_name": "Python 3 (ipykernel)",
   "language": "python",
   "name": "python3"
  },
  "language_info": {
   "codemirror_mode": {
    "name": "ipython",
    "version": 3
   },
   "file_extension": ".py",
   "mimetype": "text/x-python",
   "name": "python",
   "nbconvert_exporter": "python",
   "pygments_lexer": "ipython3",
   "version": "3.9.7"
  }
 },
 "nbformat": 4,
 "nbformat_minor": 5
}
