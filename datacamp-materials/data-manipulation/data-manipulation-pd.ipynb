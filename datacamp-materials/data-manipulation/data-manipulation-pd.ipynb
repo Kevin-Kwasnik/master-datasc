{
 "cells": [
  {
   "cell_type": "markdown",
   "id": "3ec802c6",
   "metadata": {},
   "source": [
    "### Explicit indexes\n",
    "\n",
    "**`df.columns`** contains an index object of column names\n",
    "\n",
    "**`df.index`** contains an index object of row numbers"
   ]
  },
  {
   "cell_type": "markdown",
   "id": "ba1cf38b",
   "metadata": {},
   "source": [
    "### Setting a column as the index\n",
    "\n",
    "**`df_ind = df.set_index(\"name\")`** moves a column from the body of the df to the index. \n",
    "<br>\n",
    "<span style = \"color:red\"> Note that **df_ind** (here and below) is a user defined variable to represent the df with a named index</span>"
   ]
  },
  {
   "cell_type": "markdown",
   "id": "eda67eeb",
   "metadata": {},
   "source": [
    "#### pre-index assignment:\n",
    "\n",
    "![pre-index](pre-index.png)\n",
    "\n",
    "#### post-index assignment:\n",
    "\n",
    "![post-index](post-index.png)"
   ]
  },
  {
   "cell_type": "markdown",
   "id": "ae58d06d",
   "metadata": {},
   "source": [
    "### Removing an index\n",
    "\n",
    "**`df_ind.reset_index()`**: resets to original df <br>\n",
    "**`df_ind.reset_index(drop = True)`**: removes the named index altogether"
   ]
  },
  {
   "cell_type": "markdown",
   "id": "1ef04ff0",
   "metadata": {},
   "source": [
    "### Subsetting using an index\n",
    "\n",
    "**`df_ind.loc[[\"name\", \"name\"]]`** filters on **index values**. <br>\n",
    "> <span style = \"color:deepskyblue\"> index values **do not** need to be unique. </span>"
   ]
  },
  {
   "cell_type": "markdown",
   "id": "1e359ee2",
   "metadata": {},
   "source": [
    "### Multi-level indexes\n",
    "\n",
    "**`df_ind = df.set_index([\"name\", \"name\"])`** creates a heirarchical index\n",
    "\n",
    "> <span style = \"color:deepskyblue\"> when using **.loc** on a multi-index, all inner indexes that match the called outer index will be returned. Passing a list of named indexes will return a list of information matching the **outer indexes**</span>"
   ]
  },
  {
   "cell_type": "markdown",
   "id": "c20d1cb7",
   "metadata": {},
   "source": [
    "![multi-index](multi-index.png)"
   ]
  },
  {
   "cell_type": "markdown",
   "id": "1725d519",
   "metadata": {},
   "source": [
    "### Subsetting on inner levels with a list of tuples\n",
    "\n",
    "`df_ind = df.set_index([(\"outer name1\", \"inner name1\"), (\"outer name2\", \"inner name2)])`"
   ]
  },
  {
   "cell_type": "markdown",
   "id": "f3dac2ef",
   "metadata": {},
   "source": [
    "### Sorting by index values\n",
    "\n",
    "`df_ind.sort_index()`: sorts all indexes from outer to inner in ascending order\n",
    "\n",
    "#### to control the sorting: \n",
    "\n",
    "`df_ind.sort_index(level= [\"index name1\", \"index name2\"], ascending= [True, False])`"
   ]
  },
  {
   "cell_type": "markdown",
   "id": "b61cc34f",
   "metadata": {},
   "source": [
    "### Slicing by index values (sort first)"
   ]
  },
  {
   "cell_type": "code",
   "execution_count": null,
   "id": "847075d4",
   "metadata": {},
   "outputs": [],
   "source": []
  }
 ],
 "metadata": {
  "kernelspec": {
   "display_name": "Python 3 (ipykernel)",
   "language": "python",
   "name": "python3"
  },
  "language_info": {
   "codemirror_mode": {
    "name": "ipython",
    "version": 3
   },
   "file_extension": ".py",
   "mimetype": "text/x-python",
   "name": "python",
   "nbconvert_exporter": "python",
   "pygments_lexer": "ipython3",
   "version": "3.9.7"
  }
 },
 "nbformat": 4,
 "nbformat_minor": 5
}
