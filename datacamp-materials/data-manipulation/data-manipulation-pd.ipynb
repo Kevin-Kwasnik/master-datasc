{
 "cells": [
  {
   "cell_type": "markdown",
   "id": "4279c909",
   "metadata": {},
   "source": [
    "# Transforming DataFrames\n",
    "\n",
    "### I. Sorting\n",
    "\n",
    "`df.sort_values(\"column_name\")`: sorts a df according to ascending row\n",
    "`df.sort_values(\"column_name\", ascending = False)`: largest first\n",
    "\n",
    "#### a. Sorting by multiple columns:\n",
    "\n",
    "`df.sort_values([\"column_name1\", column_name2\"], ascending = [True, False])`"
   ]
  },
  {
   "cell_type": "markdown",
   "id": "fdf3091b",
   "metadata": {},
   "source": [
    "### II. Subsetting rows\n",
    "\n",
    "`df[\"column_name\"]`: returns the specified column \n",
    "\n",
    "> <span style = \"color:royalblue\"> to subset multiple columns pass in a list of column names.  </span>\n",
    "\n",
    "#### a. Using Comparison Operators\n",
    "\n",
    "`df[\"column_name\"] > 50`: returns boolean values relative to comparison operator **for the specified column**\n",
    "\n",
    "> <span style = \"color:royalblue\"> \n",
    "the comparison conditions can be used within square brackets to subset the rows we are interested in.</span>\n",
    "\n",
    "> `df[df[\"column_name\"] > 50]`: returns all rows relative to > condition. Other comparison operators can be used as well.\n",
    "\n",
    "#### b. Subsetting based on multiple conditions\n",
    "\n",
    "Use the following three steps together:\n",
    "1. `variable1 = df[\"column1\"] == \"some_filter_value\"`\n",
    "2. `variable2 = df[\"column2\"] == \"some_filter_value\"`\n",
    "3. `df[variable1 & variable2]`\n",
    "\n",
    "> this will subset based upon the conditions specified in variable 1 & variable 2. \n",
    "\n",
    "#### c. Subsetting using .isin()\n",
    "\n",
    "`some_filter_var = df[\"column\"].isin([\"filter_value1\", \"filter_value2\"])` <br>\n",
    "`df[some_filter_var]`: returns the rows subset by filter_value1 and 2 from the column"
   ]
  },
  {
   "cell_type": "markdown",
   "id": "e9fd157f",
   "metadata": {},
   "source": [
    "### IV. Creating a new Column\n",
    "\n",
    "`df[\"new_column_name\"] = df[\"old_column_name\"] / 100`\n",
    "> <span style = \"color:royalblue\"> here `/ 100` is an example of manipulating data to get different values to be stored in the new column </span>"
   ]
  },
  {
   "cell_type": "markdown",
   "id": "7d25f294",
   "metadata": {},
   "source": [
    "### Explicit indexes\n",
    "\n",
    "**`df.columns`** contains an index object of column names\n",
    "\n",
    "**`df.index`** contains an index object of row numbers"
   ]
  },
  {
   "cell_type": "markdown",
   "id": "86c4bfc5",
   "metadata": {},
   "source": [
    "### Setting a column as the index\n",
    "\n",
    "**`df_ind = df.set_index(\"name\")`** moves a column from the body of the df to the index. \n",
    "<br>\n",
    "<span style = \"color:indianred\"> Note that **df_ind** (here and below) is a user defined variable to represent the df with a named index</span>"
   ]
  },
  {
   "cell_type": "markdown",
   "id": "eb0e413e",
   "metadata": {},
   "source": [
    "#### pre-index assignment:\n",
    "\n",
    "![pre-index](pre-index.png)\n",
    "\n",
    "#### post-index assignment:\n",
    "\n",
    "![post-index](post-index.png)"
   ]
  },
  {
   "cell_type": "markdown",
   "id": "b7862a74",
   "metadata": {},
   "source": [
    "### Removing an index\n",
    "\n",
    "**`df_ind.reset_index()`**: resets to original df <br>\n",
    "**`df_ind.reset_index(drop = True)`**: removes the named index altogether"
   ]
  },
  {
   "cell_type": "markdown",
   "id": "3f434e3c",
   "metadata": {},
   "source": [
    "### Subsetting using an index\n",
    "\n",
    "**`df_ind.loc[[\"name\", \"name\"]]`** filters on **index values**. <br>\n",
    "> <span style = \"color:royalblue\"> index values **do not** need to be unique. </span>"
   ]
  },
  {
   "cell_type": "markdown",
   "id": "1595e7e8",
   "metadata": {},
   "source": [
    "### Multi-level indexes\n",
    "\n",
    "**`df_ind = df.set_index([\"name\", \"name\"])`** creates a heirarchical index\n",
    "\n",
    "> <span style = \"color:royalblue\"> when using **.loc** on a multi-index, all inner indexes that match the called outer index will be returned. Passing a list of named indexes will return a list of information matching the **outer indexes**</span>"
   ]
  },
  {
   "cell_type": "markdown",
   "id": "1a804fb9",
   "metadata": {},
   "source": [
    "![multi-index](multi-index.png)"
   ]
  },
  {
   "cell_type": "markdown",
   "id": "1b8245ca",
   "metadata": {},
   "source": [
    "### Subsetting on inner levels with a list of tuples\n",
    "\n",
    "`df_ind = df.set_index([(\"outer name1\", \"inner name1\"), (\"outer name2\", \"inner name2)])`"
   ]
  },
  {
   "cell_type": "markdown",
   "id": "48d8d49f",
   "metadata": {},
   "source": [
    "### Sorting by index values\n",
    "\n",
    "`df_ind.sort_index()`: sorts all indexes from outer to inner in ascending order\n",
    "\n",
    "#### to control the sorting: \n",
    "\n",
    "`df_ind.sort_index(level= [\"index name1\", \"index name2\"], ascending= [True, False])`"
   ]
  },
  {
   "cell_type": "markdown",
   "id": "712c24ea",
   "metadata": {},
   "source": [
    "### Slicing by index values (sort first)\n",
    "\n",
    "#### By outer only:\n",
    "**`df.loc[\"outer name1\": \"outer name2\"]`**\n",
    "\n",
    "#### By inner also:\n",
    "**`df.loc[(\"outer name1\", \"inner name1\") : (\"outer name2\", \"inner name2)]`**\n",
    "\n",
    "> <span style = \"color:indianred\"> Note that pd will not throw an error if you try to slice only by inner indexes</span>\n",
    "\n",
    "### Slicing by column \n",
    "\n",
    "#### Subsetting columns, while keeping all rows:\n",
    "**`df.loc[:, \"column1\":\"column2\"]`**\n",
    "\n",
    "#### Slicing on columns and rows:\n",
    "**`df.loc[(\"outer name1\", \"inner name1\") : (\"outer name2\", \"inner name2), \"column1\":\"column2\"]`**"
   ]
  },
  {
   "cell_type": "markdown",
   "id": "509cf530",
   "metadata": {},
   "source": [
    "\n",
    "<br>\n",
    "<br>\n",
    "<br>\n",
    "<br>\n",
    "<br> \n",
    "\n",
    "# Missing Values"
   ]
  },
  {
   "cell_type": "markdown",
   "id": "a6e91a4d",
   "metadata": {},
   "source": [
    "`df.isna()`: returns a boolean value if the value is missing or not\n",
    "<br>\n",
    "\n",
    "`df.isna().any()`: returns a boolean value at the column level for any missing values in a particular column\n",
    "<br>\n",
    "\n",
    "`df.isna().sum()`: counts the number of missing values in a given column\n",
    "\n",
    "> <span style = \"color:royalblue\"> you can plot the sum of missing values for a clear review of missing content  </span>\n",
    "<br>\n",
    "\n",
    "`df.dropna()`: removes the rows with the missing data from the dataframe\n",
    "<br>\n",
    "\n",
    "`df.fillna(0)`: fills the missing values with 0, so as to not lose the other information."
   ]
  },
  {
   "cell_type": "markdown",
   "id": "418ce1e0",
   "metadata": {},
   "source": [
    "# Creating DataFrames\n"
   ]
  },
  {
   "cell_type": "code",
   "execution_count": 2,
   "id": "be672327",
   "metadata": {},
   "outputs": [],
   "source": [
    "my_dict = {\n",
    "    \"key1\": 1,\n",
    "    \"key2\": 2,\n",
    "    \"key3\": 3\n",
    "}"
   ]
  },
  {
   "cell_type": "code",
   "execution_count": 4,
   "id": "b106ee24",
   "metadata": {},
   "outputs": [
    {
     "data": {
      "text/plain": [
       "1"
      ]
     },
     "execution_count": 4,
     "metadata": {},
     "output_type": "execute_result"
    }
   ],
   "source": [
    "my_dict[\"key1\"] # acces value via keys"
   ]
  },
  {
   "cell_type": "markdown",
   "id": "ed4ba9ba",
   "metadata": {},
   "source": [
    "#### A. From a list of dictionaries\n",
    "\n",
    "- constructed row by row\n",
    "\n",
    "#### B. From a dictionary of lists\n",
    "\n",
    "- constructed column by column"
   ]
  },
  {
   "cell_type": "code",
   "execution_count": 5,
   "id": "fe95401d",
   "metadata": {},
   "outputs": [],
   "source": [
    "list_of_dicts = [\n",
    "    {\"key1\": 1,\"key2\": 2,\"key3\": 3},\n",
    "    {\"key1\": 4, \"key2\": 5, \"key3\": 6}\n",
    "]"
   ]
  },
  {
   "cell_type": "code",
   "execution_count": 7,
   "id": "2a384a02",
   "metadata": {},
   "outputs": [
    {
     "data": {
      "text/html": [
       "<div>\n",
       "<style scoped>\n",
       "    .dataframe tbody tr th:only-of-type {\n",
       "        vertical-align: middle;\n",
       "    }\n",
       "\n",
       "    .dataframe tbody tr th {\n",
       "        vertical-align: top;\n",
       "    }\n",
       "\n",
       "    .dataframe thead th {\n",
       "        text-align: right;\n",
       "    }\n",
       "</style>\n",
       "<table border=\"1\" class=\"dataframe\">\n",
       "  <thead>\n",
       "    <tr style=\"text-align: right;\">\n",
       "      <th></th>\n",
       "      <th>key1</th>\n",
       "      <th>key2</th>\n",
       "      <th>key3</th>\n",
       "    </tr>\n",
       "  </thead>\n",
       "  <tbody>\n",
       "    <tr>\n",
       "      <th>0</th>\n",
       "      <td>1</td>\n",
       "      <td>2</td>\n",
       "      <td>3</td>\n",
       "    </tr>\n",
       "    <tr>\n",
       "      <th>1</th>\n",
       "      <td>4</td>\n",
       "      <td>5</td>\n",
       "      <td>6</td>\n",
       "    </tr>\n",
       "  </tbody>\n",
       "</table>\n",
       "</div>"
      ],
      "text/plain": [
       "   key1  key2  key3\n",
       "0     1     2     3\n",
       "1     4     5     6"
      ]
     },
     "execution_count": 7,
     "metadata": {},
     "output_type": "execute_result"
    }
   ],
   "source": [
    "import pandas as pd\n",
    "pd.DataFrame(list_of_dicts)"
   ]
  },
  {
   "cell_type": "markdown",
   "id": "66aa32dd",
   "metadata": {},
   "source": [
    "#### Dict of lists\n",
    "\n",
    "- **key** = column name\n",
    "- **value** = list of column values"
   ]
  },
  {
   "cell_type": "code",
   "execution_count": 8,
   "id": "e88817f6",
   "metadata": {},
   "outputs": [],
   "source": [
    "dict_of_lists = {\n",
    "    \"key1\": [1,2],\n",
    "    \"key2\": [3,4],\n",
    "    \"key3\": [5,6]\n",
    "}"
   ]
  },
  {
   "cell_type": "code",
   "execution_count": 9,
   "id": "7f0fdd03",
   "metadata": {},
   "outputs": [
    {
     "data": {
      "text/html": [
       "<div>\n",
       "<style scoped>\n",
       "    .dataframe tbody tr th:only-of-type {\n",
       "        vertical-align: middle;\n",
       "    }\n",
       "\n",
       "    .dataframe tbody tr th {\n",
       "        vertical-align: top;\n",
       "    }\n",
       "\n",
       "    .dataframe thead th {\n",
       "        text-align: right;\n",
       "    }\n",
       "</style>\n",
       "<table border=\"1\" class=\"dataframe\">\n",
       "  <thead>\n",
       "    <tr style=\"text-align: right;\">\n",
       "      <th></th>\n",
       "      <th>key1</th>\n",
       "      <th>key2</th>\n",
       "      <th>key3</th>\n",
       "    </tr>\n",
       "  </thead>\n",
       "  <tbody>\n",
       "    <tr>\n",
       "      <th>0</th>\n",
       "      <td>1</td>\n",
       "      <td>3</td>\n",
       "      <td>5</td>\n",
       "    </tr>\n",
       "    <tr>\n",
       "      <th>1</th>\n",
       "      <td>2</td>\n",
       "      <td>4</td>\n",
       "      <td>6</td>\n",
       "    </tr>\n",
       "  </tbody>\n",
       "</table>\n",
       "</div>"
      ],
      "text/plain": [
       "   key1  key2  key3\n",
       "0     1     3     5\n",
       "1     2     4     6"
      ]
     },
     "execution_count": 9,
     "metadata": {},
     "output_type": "execute_result"
    }
   ],
   "source": [
    "pd.DataFrame(dict_of_lists)"
   ]
  }
 ],
 "metadata": {
  "kernelspec": {
   "display_name": "Python 3 (ipykernel)",
   "language": "python",
   "name": "python3"
  },
  "language_info": {
   "codemirror_mode": {
    "name": "ipython",
    "version": 3
   },
   "file_extension": ".py",
   "mimetype": "text/x-python",
   "name": "python",
   "nbconvert_exporter": "python",
   "pygments_lexer": "ipython3",
   "version": "3.9.7"
  }
 },
 "nbformat": 4,
 "nbformat_minor": 5
}
