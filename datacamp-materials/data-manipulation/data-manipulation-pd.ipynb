{
 "cells": [
  {
   "cell_type": "markdown",
   "id": "a93ef652",
   "metadata": {},
   "source": [
    "### I. Sorting\n",
    "\n",
    "`df.sort_values(\"column_name\")`: sorts a df according to ascending row\n",
    "`df.sort_values(\"column_name\", ascending = False)`: largest first\n",
    "\n",
    "#### a. Sorting by multiple columns:\n",
    "\n",
    "`df.sort_values([\"column_name1\", column_name2\"], ascending = [True, False])`"
   ]
  },
  {
   "cell_type": "markdown",
   "id": "93abec0b",
   "metadata": {},
   "source": [
    "### II. Subsetting rows\n",
    "\n",
    "`df[\"column_name\"]`: returns the specified column \n",
    "\n",
    "> <span style = \"color:royalblue\"> to subset multiple columns pass in a list of column names.  </span>\n",
    "\n",
    "#### a. Using Comparison Operators\n",
    "\n",
    "`df[\"column_name\"] > 50`: returns boolean values relative to comparison operator **for the specified column**\n",
    "\n",
    "> <span style = \"color:royalblue\"> \n",
    "the comparison conditions can be used within square brackets to subset the rows we are interested in.</span>\n",
    "\n",
    "> `df[df[\"column_name\"] > 50]`: returns all rows relative to > condition. Other comparison operators can be used as well.\n",
    "\n",
    "#### b. Subsetting based on multiple conditions\n",
    "\n",
    "Use the following three steps together:\n",
    "1. `variable1 = df[\"column1\"] == \"some_filter_value\"`\n",
    "2. `variable2 = df[\"column2\"] == \"some_filter_value\"`\n",
    "3. `df[variable1 & variable2]`\n",
    "\n",
    "> this will subset based upon the conditions specified in variable 1 & variable 2. \n",
    "\n",
    "#### c. Subsetting using .isin()\n",
    "\n",
    "`some_filter_var = df[\"column\"].isin([\"filter_value1\", \"filter_value2\"])` <br>\n",
    "`df[some_filter_var]`: returns the rows subset by filter_value1 and 2 from the column"
   ]
  },
  {
   "cell_type": "markdown",
   "id": "4d667cdd",
   "metadata": {},
   "source": [
    "### IV. Creating a new Column\n",
    "\n",
    "`df[\"new_column_name\"] = df[\"old_column_name\"] / 100`\n",
    "> <span style = \"color:royalblue\"> here `/ 100` is an example of manipulating data to get different values to be stored in the new column </span>"
   ]
  },
  {
   "cell_type": "code",
   "execution_count": null,
   "id": "05879e38",
   "metadata": {},
   "outputs": [],
   "source": [
    "V"
   ]
  },
  {
   "cell_type": "markdown",
   "id": "cf15febf",
   "metadata": {},
   "source": [
    "### Explicit indexes\n",
    "\n",
    "**`df.columns`** contains an index object of column names\n",
    "\n",
    "**`df.index`** contains an index object of row numbers"
   ]
  },
  {
   "cell_type": "markdown",
   "id": "34f52ced",
   "metadata": {},
   "source": [
    "### Setting a column as the index\n",
    "\n",
    "**`df_ind = df.set_index(\"name\")`** moves a column from the body of the df to the index. \n",
    "<br>\n",
    "<span style = \"color:indianred\"> Note that **df_ind** (here and below) is a user defined variable to represent the df with a named index</span>"
   ]
  },
  {
   "cell_type": "markdown",
   "id": "9922be84",
   "metadata": {},
   "source": [
    "#### pre-index assignment:\n",
    "\n",
    "![pre-index](pre-index.png)\n",
    "\n",
    "#### post-index assignment:\n",
    "\n",
    "![post-index](post-index.png)"
   ]
  },
  {
   "cell_type": "markdown",
   "id": "396bdd14",
   "metadata": {},
   "source": [
    "### Removing an index\n",
    "\n",
    "**`df_ind.reset_index()`**: resets to original df <br>\n",
    "**`df_ind.reset_index(drop = True)`**: removes the named index altogether"
   ]
  },
  {
   "cell_type": "markdown",
   "id": "1d94b325",
   "metadata": {},
   "source": [
    "### Subsetting using an index\n",
    "\n",
    "**`df_ind.loc[[\"name\", \"name\"]]`** filters on **index values**. <br>\n",
    "> <span style = \"color:deepskyblue\"> index values **do not** need to be unique. </span>"
   ]
  },
  {
   "cell_type": "markdown",
   "id": "98b0890e",
   "metadata": {},
   "source": [
    "### Multi-level indexes\n",
    "\n",
    "**`df_ind = df.set_index([\"name\", \"name\"])`** creates a heirarchical index\n",
    "\n",
    "> <span style = \"color:royalblue\"> when using **.loc** on a multi-index, all inner indexes that match the called outer index will be returned. Passing a list of named indexes will return a list of information matching the **outer indexes**</span>"
   ]
  },
  {
   "cell_type": "markdown",
   "id": "31c0ed82",
   "metadata": {},
   "source": [
    "![multi-index](multi-index.png)"
   ]
  },
  {
   "cell_type": "markdown",
   "id": "3e3ad378",
   "metadata": {},
   "source": [
    "### Subsetting on inner levels with a list of tuples\n",
    "\n",
    "`df_ind = df.set_index([(\"outer name1\", \"inner name1\"), (\"outer name2\", \"inner name2)])`"
   ]
  },
  {
   "cell_type": "markdown",
   "id": "e356d4ac",
   "metadata": {},
   "source": [
    "### Sorting by index values\n",
    "\n",
    "`df_ind.sort_index()`: sorts all indexes from outer to inner in ascending order\n",
    "\n",
    "#### to control the sorting: \n",
    "\n",
    "`df_ind.sort_index(level= [\"index name1\", \"index name2\"], ascending= [True, False])`"
   ]
  },
  {
   "cell_type": "markdown",
   "id": "83f4d29d",
   "metadata": {},
   "source": [
    "### Slicing by index values (sort first)\n",
    "\n",
    "#### By outer only:\n",
    "**`df.loc[\"outer name1\": \"outer name2\"]`**\n",
    "\n",
    "#### By inner also:\n",
    "**`df.loc[(\"outer name1\", \"inner name1\") : (\"outer name2\", \"inner name2)]`**\n",
    "\n",
    "> <span style = \"color:indianred\"> Note that pd will not throw an error if you try to slice only by inner indexes</span>\n",
    "\n",
    "### Slicing by column \n",
    "\n",
    "#### Subsetting columns, while keeping all rows:\n",
    "**`df.loc[:, \"column1\":\"column2\"]`**\n",
    "\n",
    "#### Slicing on columns and rows:\n",
    "**`df.loc[(\"outer name1\", \"inner name1\") : (\"outer name2\", \"inner name2), \"column1\":\"column2\"]`**"
   ]
  },
  {
   "cell_type": "code",
   "execution_count": null,
   "id": "5e95c820",
   "metadata": {},
   "outputs": [],
   "source": []
  }
 ],
 "metadata": {
  "kernelspec": {
   "display_name": "Python 3 (ipykernel)",
   "language": "python",
   "name": "python3"
  },
  "language_info": {
   "codemirror_mode": {
    "name": "ipython",
    "version": 3
   },
   "file_extension": ".py",
   "mimetype": "text/x-python",
   "name": "python",
   "nbconvert_exporter": "python",
   "pygments_lexer": "ipython3",
   "version": "3.9.7"
  }
 },
 "nbformat": 4,
 "nbformat_minor": 5
}
