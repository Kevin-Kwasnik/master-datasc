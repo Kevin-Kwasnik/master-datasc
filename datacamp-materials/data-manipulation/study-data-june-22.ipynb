{
 "cells": [
  {
   "cell_type": "code",
   "execution_count": 1,
   "id": "b6a7b7c1",
   "metadata": {},
   "outputs": [],
   "source": [
    "import pandas as pd"
   ]
  },
  {
   "cell_type": "code",
   "execution_count": 2,
   "id": "cdf1c03c",
   "metadata": {},
   "outputs": [],
   "source": [
    "study_data = pd.read_csv('study-data.csv', sep = ',')"
   ]
  },
  {
   "cell_type": "code",
   "execution_count": 3,
   "id": "94e56dab",
   "metadata": {},
   "outputs": [
    {
     "data": {
      "text/html": [
       "<div>\n",
       "<style scoped>\n",
       "    .dataframe tbody tr th:only-of-type {\n",
       "        vertical-align: middle;\n",
       "    }\n",
       "\n",
       "    .dataframe tbody tr th {\n",
       "        vertical-align: top;\n",
       "    }\n",
       "\n",
       "    .dataframe thead th {\n",
       "        text-align: right;\n",
       "    }\n",
       "</style>\n",
       "<table border=\"1\" class=\"dataframe\">\n",
       "  <thead>\n",
       "    <tr style=\"text-align: right;\">\n",
       "      <th></th>\n",
       "      <th>Date</th>\n",
       "      <th>Content</th>\n",
       "      <th>Platform</th>\n",
       "      <th>Begin</th>\n",
       "      <th>End</th>\n",
       "      <th>Total</th>\n",
       "      <th>Course Title</th>\n",
       "      <th>Challenges Completed</th>\n",
       "      <th>Course Complete (Y/N)</th>\n",
       "      <th>Title</th>\n",
       "      <th>LINK</th>\n",
       "    </tr>\n",
       "  </thead>\n",
       "  <tbody>\n",
       "    <tr>\n",
       "      <th>0</th>\n",
       "      <td>2022-06-06</td>\n",
       "      <td>Python Coding Challenge</td>\n",
       "      <td>Code Abbey</td>\n",
       "      <td>8:00</td>\n",
       "      <td>10:00</td>\n",
       "      <td>2:00</td>\n",
       "      <td>NaN</td>\n",
       "      <td>2.0</td>\n",
       "      <td>NaN</td>\n",
       "      <td>NaN</td>\n",
       "      <td>NaN</td>\n",
       "    </tr>\n",
       "    <tr>\n",
       "      <th>1</th>\n",
       "      <td>2022-06-06</td>\n",
       "      <td>R</td>\n",
       "      <td>Coursera</td>\n",
       "      <td>10:00</td>\n",
       "      <td>10:30</td>\n",
       "      <td>0:30</td>\n",
       "      <td>R Programming</td>\n",
       "      <td>NaN</td>\n",
       "      <td>NaN</td>\n",
       "      <td>NaN</td>\n",
       "      <td>NaN</td>\n",
       "    </tr>\n",
       "    <tr>\n",
       "      <th>2</th>\n",
       "      <td>2022-06-06</td>\n",
       "      <td>SQL</td>\n",
       "      <td>Datacamp</td>\n",
       "      <td>11:00</td>\n",
       "      <td>12:00</td>\n",
       "      <td>1:00</td>\n",
       "      <td>Introduction to SQL</td>\n",
       "      <td>NaN</td>\n",
       "      <td>NaN</td>\n",
       "      <td>NaN</td>\n",
       "      <td>NaN</td>\n",
       "    </tr>\n",
       "  </tbody>\n",
       "</table>\n",
       "</div>"
      ],
      "text/plain": [
       "         Date                  Content    Platform  Begin    End Total  \\\n",
       "0  2022-06-06  Python Coding Challenge  Code Abbey   8:00  10:00  2:00   \n",
       "1  2022-06-06                        R    Coursera  10:00  10:30  0:30   \n",
       "2  2022-06-06                      SQL    Datacamp  11:00  12:00  1:00   \n",
       "\n",
       "          Course Title  Challenges Completed Course Complete (Y/N) Title LINK  \n",
       "0                  NaN                   2.0                   NaN   NaN  NaN  \n",
       "1        R Programming                   NaN                   NaN   NaN  NaN  \n",
       "2  Introduction to SQL                   NaN                   NaN   NaN  NaN  "
      ]
     },
     "execution_count": 3,
     "metadata": {},
     "output_type": "execute_result"
    }
   ],
   "source": [
    "study_data.head(3)"
   ]
  },
  {
   "cell_type": "code",
   "execution_count": 4,
   "id": "95024b59",
   "metadata": {},
   "outputs": [],
   "source": [
    "study = study_data.set_index(\"Date\")"
   ]
  },
  {
   "cell_type": "code",
   "execution_count": 5,
   "id": "d00ccc6f",
   "metadata": {},
   "outputs": [
    {
     "data": {
      "text/html": [
       "<div>\n",
       "<style scoped>\n",
       "    .dataframe tbody tr th:only-of-type {\n",
       "        vertical-align: middle;\n",
       "    }\n",
       "\n",
       "    .dataframe tbody tr th {\n",
       "        vertical-align: top;\n",
       "    }\n",
       "\n",
       "    .dataframe thead th {\n",
       "        text-align: right;\n",
       "    }\n",
       "</style>\n",
       "<table border=\"1\" class=\"dataframe\">\n",
       "  <thead>\n",
       "    <tr style=\"text-align: right;\">\n",
       "      <th></th>\n",
       "      <th>Content</th>\n",
       "      <th>Platform</th>\n",
       "      <th>Begin</th>\n",
       "      <th>End</th>\n",
       "      <th>Total</th>\n",
       "      <th>Course Title</th>\n",
       "      <th>Challenges Completed</th>\n",
       "      <th>Course Complete (Y/N)</th>\n",
       "      <th>Title</th>\n",
       "      <th>LINK</th>\n",
       "    </tr>\n",
       "    <tr>\n",
       "      <th>Date</th>\n",
       "      <th></th>\n",
       "      <th></th>\n",
       "      <th></th>\n",
       "      <th></th>\n",
       "      <th></th>\n",
       "      <th></th>\n",
       "      <th></th>\n",
       "      <th></th>\n",
       "      <th></th>\n",
       "      <th></th>\n",
       "    </tr>\n",
       "  </thead>\n",
       "  <tbody>\n",
       "    <tr>\n",
       "      <th>2022-06-06</th>\n",
       "      <td>Python Coding Challenge</td>\n",
       "      <td>Code Abbey</td>\n",
       "      <td>8:00</td>\n",
       "      <td>10:00</td>\n",
       "      <td>2:00</td>\n",
       "      <td>NaN</td>\n",
       "      <td>2.0</td>\n",
       "      <td>NaN</td>\n",
       "      <td>NaN</td>\n",
       "      <td>NaN</td>\n",
       "    </tr>\n",
       "    <tr>\n",
       "      <th>2022-06-06</th>\n",
       "      <td>R</td>\n",
       "      <td>Coursera</td>\n",
       "      <td>10:00</td>\n",
       "      <td>10:30</td>\n",
       "      <td>0:30</td>\n",
       "      <td>R Programming</td>\n",
       "      <td>NaN</td>\n",
       "      <td>NaN</td>\n",
       "      <td>NaN</td>\n",
       "      <td>NaN</td>\n",
       "    </tr>\n",
       "    <tr>\n",
       "      <th>2022-06-06</th>\n",
       "      <td>SQL</td>\n",
       "      <td>Datacamp</td>\n",
       "      <td>11:00</td>\n",
       "      <td>12:00</td>\n",
       "      <td>1:00</td>\n",
       "      <td>Introduction to SQL</td>\n",
       "      <td>NaN</td>\n",
       "      <td>NaN</td>\n",
       "      <td>NaN</td>\n",
       "      <td>NaN</td>\n",
       "    </tr>\n",
       "  </tbody>\n",
       "</table>\n",
       "</div>"
      ],
      "text/plain": [
       "                            Content    Platform  Begin    End Total  \\\n",
       "Date                                                                  \n",
       "2022-06-06  Python Coding Challenge  Code Abbey   8:00  10:00  2:00   \n",
       "2022-06-06                        R    Coursera  10:00  10:30  0:30   \n",
       "2022-06-06                      SQL    Datacamp  11:00  12:00  1:00   \n",
       "\n",
       "                   Course Title  Challenges Completed Course Complete (Y/N)  \\\n",
       "Date                                                                          \n",
       "2022-06-06                  NaN                   2.0                   NaN   \n",
       "2022-06-06        R Programming                   NaN                   NaN   \n",
       "2022-06-06  Introduction to SQL                   NaN                   NaN   \n",
       "\n",
       "           Title LINK  \n",
       "Date                   \n",
       "2022-06-06   NaN  NaN  \n",
       "2022-06-06   NaN  NaN  \n",
       "2022-06-06   NaN  NaN  "
      ]
     },
     "execution_count": 5,
     "metadata": {},
     "output_type": "execute_result"
    }
   ],
   "source": [
    "study.head(3)"
   ]
  },
  {
   "cell_type": "code",
   "execution_count": 6,
   "id": "9958685d",
   "metadata": {},
   "outputs": [],
   "source": [
    "clean_study = study.loc[\"2022-06-06\":\"2022-06-30\"]"
   ]
  },
  {
   "cell_type": "code",
   "execution_count": 19,
   "id": "c6a4f201",
   "metadata": {},
   "outputs": [],
   "source": [
    "for idx, val in enumerate(clean_study[\"Platform\"]):\n",
    "    if val == \"Datacamp\":\n",
    "        clean_study[\"Platform\"][idx] = \"DataCamp\"\n",
    "    elif val == \"DataCamp \":\n",
    "        clean_study[\"Platform\"][idx] = \"DataCamp\"\n",
    "    elif val == \"DattaCamp\":\n",
    "        clean_study[\"Platform\"][idx] = \"DataCamp\"\n",
    "    elif val == \"Springboard | Kaggle\":\n",
    "        clean_study[\"Platform\"][idx] = \"Springboard\"\n",
    "    elif val == 'Leetcode | Zoom':\n",
    "        clean_study[\"Platform\"][idx] = \"Leetcode\""
   ]
  },
  {
   "cell_type": "code",
   "execution_count": 8,
   "id": "b6d204c6",
   "metadata": {},
   "outputs": [],
   "source": [
    "from datetime import datetime"
   ]
  },
  {
   "cell_type": "code",
   "execution_count": 9,
   "id": "5f690f60",
   "metadata": {},
   "outputs": [],
   "source": [
    "time_ls = []\n",
    "for i in clean_study[\"Total\"]: \n",
    "    time_ls.append(datetime.strptime(i, \"%H:%M\"))"
   ]
  },
  {
   "cell_type": "code",
   "execution_count": 10,
   "id": "eb320f49",
   "metadata": {},
   "outputs": [
    {
     "name": "stdout",
     "output_type": "stream",
     "text": [
      "hours: 133 \n",
      "mins: 50\n"
     ]
    }
   ],
   "source": [
    "hours = 0\n",
    "minutes = 0\n",
    "for i in time_ls:\n",
    "    hours += i.hour\n",
    "    minutes += i.minute\n",
    "    \n",
    "print(f\"hours: {hours + minutes//60} \\nmins: {minutes%60}\")"
   ]
  },
  {
   "cell_type": "code",
   "execution_count": 11,
   "id": "23ef6f15",
   "metadata": {},
   "outputs": [],
   "source": [
    "import matplotlib.pyplot as plt"
   ]
  },
  {
   "cell_type": "code",
   "execution_count": 12,
   "id": "5b6b659b",
   "metadata": {},
   "outputs": [
    {
     "data": {
      "image/png": "[encoded data removed]",
      "text/plain": [
       "<Figure size 432x288 with 1 Axes>"
      ]
     },
     "metadata": {
      "needs_background": "light"
     },
     "output_type": "display_data"
    }
   ],
   "source": [
    "plt.plot(time_ls)\n",
    "plt.title(\"Data Science Prep - June 2022\")\n",
    "plt.ylabel(\"Time per study session\")\n",
    "plt.xlabel(\"Total time spent\")\n",
    "plt.show()"
   ]
  },
  {
   "cell_type": "code",
   "execution_count": 13,
   "id": "91eb323d",
   "metadata": {},
   "outputs": [],
   "source": [
    "import collections\n",
    "import numpy as np\n",
    "import matplotlib.colors as colors"
   ]
  },
  {
   "cell_type": "code",
   "execution_count": 14,
   "id": "6748bab0",
   "metadata": {},
   "outputs": [],
   "source": [
    "def count_entries(df, col_name):\n",
    "    '''\n",
    "    Return a dctionary with counts of occurrences as value for each key.\n",
    "    '''\n",
    "    cols_count = {}\n",
    "    \n",
    "\n",
    "    col = df[col_name]\n",
    "        \n",
    "    for entry in col:\n",
    "        if entry in cols_count.keys():\n",
    "            cols_count[entry] += 1\n",
    "        else:\n",
    "            cols_count[entry] = 1\n",
    "        \n",
    "    return cols_count"
   ]
  },
  {
   "cell_type": "code",
   "execution_count": 15,
   "id": "7fd623e7",
   "metadata": {},
   "outputs": [],
   "source": [
    "platform_count = count_entries(clean_study, \"Platform\")"
   ]
  },
  {
   "cell_type": "code",
   "execution_count": 16,
   "id": "52e67b14",
   "metadata": {},
   "outputs": [
    {
     "data": {
      "image/png": "[encoded data removed]",
      "text/plain": [
       "<Figure size 432x288 with 1 Axes>"
      ]
     },
     "metadata": {
      "needs_background": "light"
     },
     "output_type": "display_data"
    }
   ],
   "source": [
    "names = list(platform_count.keys())\n",
    "values = list(platform_count.values())\n",
    "l = []\n",
    "for i in range(1, len(platform_count)+1):\n",
    "    l.append(np.random.rand(3,))   \n",
    "plt.barh(range(len(platform_count)), values, tick_label=names,  color = l)\n",
    "plt.show()"
   ]
  },
  {
   "cell_type": "code",
   "execution_count": 17,
   "id": "bc302f34",
   "metadata": {},
   "outputs": [],
   "source": [
    "content_count = count_entries(clean_study, \"Content\")"
   ]
  },
  {
   "cell_type": "code",
   "execution_count": 18,
   "id": "5af620ba",
   "metadata": {},
   "outputs": [
    {
     "data": {
      "image/png": "[encoded data removed]",
      "text/plain": [
       "<Figure size 432x288 with 1 Axes>"
      ]
     },
     "metadata": {
      "needs_background": "light"
     },
     "output_type": "display_data"
    }
   ],
   "source": [
    "names = list(content_count.keys())\n",
    "values = list(content_count.values())\n",
    "l = []\n",
    "for i in range(1, len(content_count)+1):\n",
    "    l.append(np.random.rand(3,))   \n",
    "plt.barh(range(len(content_count)), values, tick_label=names,  color = l)\n",
    "plt.show()"
   ]
  },
  {
   "cell_type": "code",
   "execution_count": null,
   "id": "69b95201",
   "metadata": {},
   "outputs": [],
   "source": []
  }
 ],
 "metadata": {
  "kernelspec": {
   "display_name": "Python 3 (ipykernel)",
   "language": "python",
   "name": "python3"
  },
  "language_info": {
   "codemirror_mode": {
    "name": "ipython",
    "version": 3
   },
   "file_extension": ".py",
   "mimetype": "text/x-python",
   "name": "python",
   "nbconvert_exporter": "python",
   "pygments_lexer": "ipython3",
   "version": "3.9.7"
  }
 },
 "nbformat": 4,
 "nbformat_minor": 5
}
