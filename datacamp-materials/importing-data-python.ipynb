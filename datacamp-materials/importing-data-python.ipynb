{
 "cells": [
  {
   "cell_type": "markdown",
   "id": "da1f4935",
   "metadata": {},
   "source": [
    "### Reading a text file\n",
    "\n",
    "`filename = 'filename.txt'` <br>\n",
    "`file = open(filename, mode='r')` <br>\n",
    "`text = file.read()` <br>\n",
    "`file.close()` <br>\n",
    "\n",
    "In the above, variables can be defined in any way, `'filename.txt'` represents some file."
   ]
  },
  {
   "cell_type": "markdown",
   "id": "9b93755b",
   "metadata": {},
   "source": [
    "### Reading a file in a context (no close required)\n",
    "\n",
    "`with open(filename, mode='r') as file:` <br>\n",
    "&emsp;&emsp; `print:file.read()` <br>\n",
    "\n",
    "What you're doing here is called 'binding' a variable in the context manager construct; while still within this construct, the variable file will be bound to open(filename, 'r'). It is best practice to use the with statement as you never have to concern yourself with closing the files again.\n"
   ]
  },
  {
   "cell_type": "markdown",
   "id": "ac64a022",
   "metadata": {},
   "source": [
    "### Read and print individual lines\n",
    "\n",
    "`with open('moby_dick.txt') as file:` <br>\n",
    "&emsp;&emsp; `print(file.readline())` <br>\n",
    "&emsp;&emsp; `print(file.readline())` <br>\n",
    "&emsp;&emsp; `print(file.readline())` <br>\n",
    "\n",
    "The above would read the first three lines of text."
   ]
  },
  {
   "cell_type": "markdown",
   "id": "ad921f12",
   "metadata": {},
   "source": [
    "## II. Numpy Functions\n",
    "\n",
    "#### 1. `np.loadtxt`\n",
    "`import numpy as np` <br>\n",
    "`filename = 'MNIST.txt`<br>\n",
    "`data = np.loadtxt(filename, delimiter=',')`<br>\n",
    "`data`\n",
    "\n",
    "**NB:** `np.loadtxt` struggles with mixed data\n",
    "\n",
    "> there are other arguments such as:\n",
    "> > `skiprows=1` <br>\n",
    "> > `usecols=[0,2]` <br>\n",
    "> > `dtype=str` (ensures all data is imported as string)\n",
    "\n",
    "#### 2. `np.genfromtxt`\n",
    "\n",
    "`data = np.genfromtxt(filename, delimiter=',', names=True, dtype=None)`\n",
    "\n",
    "`dtype=None` will figure out what types each column should be.\n",
    "`names` tells us there is a header.\n",
    "\n",
    "#### 3. `np.recfromcsv`\n",
    "\n",
    "`data = np.recfromcsv(filename)` <br>\n",
    "\n",
    "> the above operates the same was as `genfromtxt` but has defaults delimiter = ',' and names = True, as well as dtype = None."
   ]
  },
  {
   "cell_type": "markdown",
   "id": "e881376a",
   "metadata": {},
   "source": [
    "## Pandas Functions\n",
    "\n",
    "#### 1. `read_csv`\n",
    "`import pandas as pd` <br>\n",
    "`filename = 'file.csv` <br>\n",
    "`data = pd.read_csv(filename)` <br>\n",
    "`data.head()`\n",
    "\n",
    "#### 2. Customizing csv import\n",
    "`sep` = the pandas version of `delimiter` <br>\n",
    "`comment` = takes comments which occur after specified character (e.g., '#') <br>\n",
    "`na_values` = takes a list of strings to recognize as NA/NaN (e.g., 'Nothing')\n",
    "\n",
    "#### 3. Excel spreadsheets\n",
    "`file = 'filename.xlsx` <br>\n",
    "`data = pd.ExcelFile(file)` <br>\n",
    "`data.sheet_names` = returns sheets in the excel file <br>\n",
    "`data.parse('sheetname')` = returns sheet specified by sheetname (as string) <br>\n",
    "`data.parse(0)` = returns sheet specified by sheetname (index position as float)\n",
    "\n",
    "#### 4. Customizing excel import\n",
    "`skiprows` = select unwanted rows by passing in a list <br>\n",
    "`names` = name the columns by passing in a list (e.g., 'Country')  <br>\n",
    "`usecols` = designate which columns to parse (e.g., [0])"
   ]
  },
  {
   "cell_type": "markdown",
   "id": "0a380a24",
   "metadata": {},
   "source": [
    "## Pickle\n",
    "\n",
    "`import pickle` <br>\n",
    "`with open('filename.pkl', 'rb') as file:` <br>\n",
    "&emsp;&emsp;`data = pickle.load(file)`\n",
    "\n",
    "> `'rb'` stands for read-only, binary"
   ]
  },
  {
   "cell_type": "code",
   "execution_count": null,
   "id": "1c911e26",
   "metadata": {},
   "outputs": [],
   "source": []
  }
 ],
 "metadata": {
  "kernelspec": {
   "display_name": "Python 3 (ipykernel)",
   "language": "python",
   "name": "python3"
  },
  "language_info": {
   "codemirror_mode": {
    "name": "ipython",
    "version": 3
   },
   "file_extension": ".py",
   "mimetype": "text/x-python",
   "name": "python",
   "nbconvert_exporter": "python",
   "pygments_lexer": "ipython3",
   "version": "3.9.7"
  }
 },
 "nbformat": 4,
 "nbformat_minor": 5
}
