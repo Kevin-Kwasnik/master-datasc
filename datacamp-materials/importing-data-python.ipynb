{
 "cells": [
  {
   "cell_type": "markdown",
   "id": "ff54dbc1",
   "metadata": {},
   "source": [
    "### Reading a text file\n",
    "\n",
    "`filename = 'filename.txt'` <br>\n",
    "`file = open(filename, mode='r')` <br>\n",
    "`text = file.read()` <br>\n",
    "`file.close()` <br>\n",
    "\n",
    "In the above, variables can be defined in any way, `'filename.txt'` represents some file."
   ]
  },
  {
   "cell_type": "markdown",
   "id": "a4f6ce04",
   "metadata": {},
   "source": [
    "### Reading a file in a context (no close required)\n",
    "\n",
    "`with open(filename, mode='r') as file:` <br>\n",
    "&emsp;&emsp; `print:file.read()` <br>\n",
    "\n",
    "What you're doing here is called 'binding' a variable in the context manager construct; while still within this construct, the variable file will be bound to open(filename, 'r'). It is best practice to use the with statement as you never have to concern yourself with closing the files again.\n"
   ]
  },
  {
   "cell_type": "markdown",
   "id": "ffcccb8b",
   "metadata": {},
   "source": [
    "### Read and print individual lines\n",
    "\n",
    "`with open('moby_dick.txt') as file:` <br>\n",
    "&emsp;&emsp; `print(file.readline())` <br>\n",
    "&emsp;&emsp; `print(file.readline())` <br>\n",
    "&emsp;&emsp; `print(file.readline())` <br>\n",
    "\n",
    "The above would read the first three lines of text."
   ]
  },
  {
   "cell_type": "markdown",
   "id": "0f4f5507",
   "metadata": {},
   "source": [
    "## II. Numpy Functions\n",
    "\n",
    "#### 1. `np.loadtxt`\n",
    "`import numpy as np` <br>\n",
    "`filename = 'MNIST.txt`<br>\n",
    "`data = np.loadtxt(filename, delimiter=',')`<br>\n",
    "`data`\n",
    "\n",
    "**NB:** `np.loadtxt` struggles with mixed data\n",
    "\n",
    "> there are other arguments such as:\n",
    "> > `skiprows=1` <br>\n",
    "> > `usecols=[0,2]` <br>\n",
    "> > `dtype=str` (ensures all data is imported as string)\n",
    "\n",
    "#### 2. `np.genfromtxt`\n",
    "\n",
    "`data = np.genfromtxt(filename, delimiter=',', names=True, dtype=None)`\n",
    "\n",
    "`dtype=None` will figure out what types each column should be.\n",
    "`names` tells us there is a header.\n",
    "\n",
    "#### 3. `np.recfromcsv`\n",
    "\n",
    "`data = np.recfromcsv(filename)` <br>\n",
    "\n",
    "> the above is"
   ]
  },
  {
   "cell_type": "code",
   "execution_count": null,
   "id": "9e6d4ffe",
   "metadata": {},
   "outputs": [],
   "source": []
  }
 ],
 "metadata": {
  "kernelspec": {
   "display_name": "Python 3 (ipykernel)",
   "language": "python",
   "name": "python3"
  },
  "language_info": {
   "codemirror_mode": {
    "name": "ipython",
    "version": 3
   },
   "file_extension": ".py",
   "mimetype": "text/x-python",
   "name": "python",
   "nbconvert_exporter": "python",
   "pygments_lexer": "ipython3",
   "version": "3.9.7"
  }
 },
 "nbformat": 4,
 "nbformat_minor": 5
}
