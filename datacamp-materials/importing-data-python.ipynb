{
 "cells": [
  {
   "cell_type": "markdown",
   "id": "9837d910",
   "metadata": {},
   "source": [
    "### Reading a text file\n",
    "\n",
    "`filename = 'filename.txt'`\n",
    "`file = open(filename, mode='r')`\n",
    "`text = file.read()`\n",
    "`file.close`\n",
    "\n",
    "In the a"
   ]
  },
  {
   "cell_type": "code",
   "execution_count": null,
   "id": "0602d433",
   "metadata": {},
   "outputs": [],
   "source": [
    "`"
   ]
  }
 ],
 "metadata": {
  "kernelspec": {
   "display_name": "Python 3 (ipykernel)",
   "language": "python",
   "name": "python3"
  },
  "language_info": {
   "codemirror_mode": {
    "name": "ipython",
    "version": 3
   },
   "file_extension": ".py",
   "mimetype": "text/x-python",
   "name": "python",
   "nbconvert_exporter": "python",
   "pygments_lexer": "ipython3",
   "version": "3.9.7"
  }
 },
 "nbformat": 4,
 "nbformat_minor": 5
}
