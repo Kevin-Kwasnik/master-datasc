{
 "cells": [
  {
   "cell_type": "markdown",
   "id": "6b2360f4",
   "metadata": {},
   "source": [
    "### Mean:\n",
    "\n",
    "Sum of all the data, divided by the number n of data points.\n",
    "$$ mean = \\bar x = \\frac{1}{n} \\sum_{i=1}^n x_{i} $$\n",
    "\n",
    "#### Outliers\n",
    "\n",
    "- Data points whose value is far greater or less than most of the rest of the data\n",
    "> the mean can be heavily influenced by outliers (e.g., the mean of the salaries for those who graduated high school with Lebron James would be misleading)."
   ]
  },
  {
   "cell_type": "markdown",
   "id": "72f43579",
   "metadata": {},
   "source": [
    "### Median:\n",
    "\n",
    "Middle value of the data set"
   ]
  },
  {
   "cell_type": "markdown",
   "id": "06d81696",
   "metadata": {},
   "source": [
    "### Variance:\n",
    "\n",
    "The mean squared distance of the data from their mean\n",
    "- Informally, a measure of the spread of data\n",
    "\n",
    "$$ mean = \\bar x = \\frac{1}{n} \\sum_{i=1}^n x_{i} $$"
   ]
  },
  {
   "cell_type": "markdown",
   "id": "42144875",
   "metadata": {},
   "source": [
    "### Standard deviation:\n",
    "\n",
    "The mean squared distance of the data from their mean\n",
    "- Informally, a measure of the spread of data\n",
    "\n",
    "\n",
    "$$ std = \\sqrt{\\frac{\\sum_{i=1}^n (x_{i} - \\bar x)^2}{n-1}} $$\n",
    "\n"
   ]
  },
  {
   "cell_type": "markdown",
   "id": "45a5e9cd",
   "metadata": {},
   "source": [
    "# II. Probabilisitic logic and Satitistical inference"
   ]
  },
  {
   "cell_type": "markdown",
   "id": "33a8b610",
   "metadata": {},
   "source": [
    "#### Probability mass function(PMF)\n",
    "- The set of probabilities of discrete outcomes\n",
    "- e.g., side of one side on dice = 1/6\n",
    "\n",
    "#### Discrete Uniform distribution\n",
    "\n",
    "The outcome of rolling a single fair die is\n",
    "- Discrete\n",
    "- Uniformly distributed\n",
    "\n",
    "#### Binomial distribution\n",
    "\n",
    "The number r of successes in n Bernoulli trials with probability p of success, is Binomially distributed\n",
    "- The number r of heads in 4 coin flips with probability 0.5 of heads, is Binomially distributed\n",
    "\n",
    "#### BInomial PMF\n",
    "\n",
    "```python\n",
    "samples = np.random.binomial(60, 0.1, size=10000)\n",
    "n = 60\n",
    "p = 0.1\n",
    "```\n",
    "\n",
    "####  Poisson process\n",
    "\n",
    "The timing of the next event is completely independent of when the previous event happened.\n",
    "- e.g., Meteor strikes, natural births in a given hospital, etc.\n",
    "\n",
    "#### Poisson distribution\n",
    "\n",
    "The number 4 of arrivals of a Poisson process in a given time interval with average rate of ? arrivals per interval is Poisson distributed.\n",
    "- The number r of hits on a website in one hour with an average hit rate of 6 hits per hour is Poisson distributed.\n",
    "- Limit of the Binomial distribution for low probability of success and large number of trials (i.e., for rare events).\n",
    "\n",
    "`samples = np.random.poisson(6, size=10000)`"
   ]
  },
  {
   "cell_type": "markdown",
   "id": "2dda3e91",
   "metadata": {},
   "source": [
    "## III. Continuous variables\n",
    "- Quantities that can take any value, not just discrete values\n",
    "\n",
    "#### Probability density function (PDF)\n",
    "- Continuous analog to the PMF\n",
    "- Mathematical description of the relative likelihood of observing a value of a continuous variable\n",
    "> here, we are measuring areas under the normal curve since the probability of a single value is not possible to calculate.\n",
    "> to find this, we are looking at the CDF of the Normal distribution\n",
    "\n",
    "#### Normal distribution\n",
    "- Describes a continuous variable whose PDF has a single symmetric peak\n",
    "- `mean` of the normal distribution is the center of the peak, **not** the mean computed from the data.\n",
    "- `standard deviation` is a measure of how wide the peak is, **not** the std computed from the data."
   ]
  },
  {
   "cell_type": "markdown",
   "id": "5dca1745",
   "metadata": {},
   "source": [
    "#### Sampling out of the normal distribution for normal PDF to compare CDF\n",
    "\n",
    "`np.random.normal(mean, standard deviation, samples)`"
   ]
  },
  {
   "cell_type": "markdown",
   "id": "ba642893",
   "metadata": {},
   "source": [
    "#### Exponential Distribution\n",
    "\n",
    "The Exponential distribution describes the waiting **times between rare events**."
   ]
  },
  {
   "cell_type": "code",
   "execution_count": null,
   "id": "0245914e",
   "metadata": {},
   "outputs": [],
   "source": []
  }
 ],
 "metadata": {
  "kernelspec": {
   "display_name": "Python 3 (ipykernel)",
   "language": "python",
   "name": "python3"
  },
  "language_info": {
   "codemirror_mode": {
    "name": "ipython",
    "version": 3
   },
   "file_extension": ".py",
   "mimetype": "text/x-python",
   "name": "python",
   "nbconvert_exporter": "python",
   "pygments_lexer": "ipython3",
   "version": "3.9.7"
  }
 },
 "nbformat": 4,
 "nbformat_minor": 5
}
