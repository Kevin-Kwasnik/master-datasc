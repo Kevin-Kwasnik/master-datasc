{
 "cells": [
  {
   "cell_type": "markdown",
   "id": "6b2360f4",
   "metadata": {},
   "source": [
    "### Mean:\n",
    "\n",
    "Sum of all the data, divided by the number n of data points.\n",
    "$$ mean = \\bar x = \\frac{1}{n} \\sum_{i=1}^n x_{i} $$\n",
    "\n",
    "#### Outliers\n",
    "\n",
    "- Data points whose value is far greater or less than most of the rest of the data\n",
    "> the mean can be heavily influenced by outliers (e.g., the mean of the salaries for those who graduated high school with Lebron James would be misleading)."
   ]
  },
  {
   "cell_type": "markdown",
   "id": "72f43579",
   "metadata": {},
   "source": [
    "### Median:\n"
   ]
  },
  {
   "cell_type": "code",
   "execution_count": null,
   "id": "a3d840ff",
   "metadata": {},
   "outputs": [],
   "source": []
  }
 ],
 "metadata": {
  "kernelspec": {
   "display_name": "Python 3 (ipykernel)",
   "language": "python",
   "name": "python3"
  },
  "language_info": {
   "codemirror_mode": {
    "name": "ipython",
    "version": 3
   },
   "file_extension": ".py",
   "mimetype": "text/x-python",
   "name": "python",
   "nbconvert_exporter": "python",
   "pygments_lexer": "ipython3",
   "version": "3.9.7"
  }
 },
 "nbformat": 4,
 "nbformat_minor": 5
}
