{
 "cells": [
  {
   "cell_type": "code",
   "execution_count": 1,
   "id": "b1aa688e",
   "metadata": {},
   "outputs": [],
   "source": [
    "import pandas as pd\n",
    "import numpy as np\n",
    "import thinkstats2 as tstat # this is the author's package! "
   ]
  },
  {
   "cell_type": "code",
   "execution_count": 2,
   "id": "06ed6313",
   "metadata": {},
   "outputs": [
    {
     "name": "stdout",
     "output_type": "stream",
     "text": [
      "gss.hdf5                  nsfg.hdf5                 read-clean-validate.ipynb\r\n"
     ]
    }
   ],
   "source": [
    "! ls"
   ]
  },
  {
   "cell_type": "code",
   "execution_count": 3,
   "id": "fa64267a",
   "metadata": {},
   "outputs": [],
   "source": [
    "nsfg = pd.read_hdf('nsfg.hdf5')"
   ]
  },
  {
   "cell_type": "code",
   "execution_count": 4,
   "id": "934d08cf",
   "metadata": {},
   "outputs": [
    {
     "data": {
      "text/plain": [
       "(9358, 10)"
      ]
     },
     "execution_count": 4,
     "metadata": {},
     "output_type": "execute_result"
    }
   ],
   "source": [
    "nsfg.shape"
   ]
  },
  {
   "cell_type": "code",
   "execution_count": 5,
   "id": "ae85f4da",
   "metadata": {
    "scrolled": true
   },
   "outputs": [
    {
     "data": {
      "text/plain": [
       "Index(['caseid', 'outcome', 'birthwgt_lb1', 'birthwgt_oz1', 'prglngth',\n",
       "       'nbrnaliv', 'agecon', 'agepreg', 'hpagelb', 'wgt2013_2015'],\n",
       "      dtype='object')"
      ]
     },
     "execution_count": 5,
     "metadata": {},
     "output_type": "execute_result"
    }
   ],
   "source": [
    "nsfg.columns"
   ]
  },
  {
   "cell_type": "code",
   "execution_count": 6,
   "id": "ca7a8dbc",
   "metadata": {},
   "outputs": [],
   "source": [
    "pounds = nsfg['birthwgt_lb1']"
   ]
  },
  {
   "cell_type": "code",
   "execution_count": 7,
   "id": "ce61ce75",
   "metadata": {},
   "outputs": [
    {
     "data": {
      "text/plain": [
       "0.0        6\n",
       "1.0       34\n",
       "2.0       47\n",
       "3.0       67\n",
       "4.0      196\n",
       "5.0      586\n",
       "6.0     1666\n",
       "7.0     2146\n",
       "8.0     1168\n",
       "9.0      363\n",
       "10.0      82\n",
       "11.0      17\n",
       "12.0       7\n",
       "13.0       2\n",
       "14.0       2\n",
       "17.0       1\n",
       "98.0       1\n",
       "99.0      94\n",
       "Name: birthwgt_lb1, dtype: int64"
      ]
     },
     "execution_count": 7,
     "metadata": {},
     "output_type": "execute_result"
    }
   ],
   "source": [
    "pounds.value_counts().sort_index()"
   ]
  },
  {
   "cell_type": "code",
   "execution_count": 8,
   "id": "e18f1cfd",
   "metadata": {},
   "outputs": [
    {
     "data": {
      "text/plain": [
       "count    6485.000000\n",
       "mean        8.055204\n",
       "std        11.178893\n",
       "min         0.000000\n",
       "25%         6.000000\n",
       "50%         7.000000\n",
       "75%         8.000000\n",
       "max        99.000000\n",
       "Name: birthwgt_lb1, dtype: float64"
      ]
     },
     "execution_count": 8,
     "metadata": {},
     "output_type": "execute_result"
    }
   ],
   "source": [
    "pounds.describe() # 99 and 98 indicate nan values, they should be replaced."
   ]
  },
  {
   "cell_type": "code",
   "execution_count": 9,
   "id": "bd19ed58",
   "metadata": {},
   "outputs": [],
   "source": [
    "pounds = pounds.replace([98,99], np.nan)"
   ]
  },
  {
   "cell_type": "code",
   "execution_count": 10,
   "id": "cc9f3ce2",
   "metadata": {},
   "outputs": [
    {
     "data": {
      "text/plain": [
       "6.703286384976526"
      ]
     },
     "execution_count": 10,
     "metadata": {},
     "output_type": "execute_result"
    }
   ],
   "source": [
    "pounds.mean()"
   ]
  },
  {
   "cell_type": "code",
   "execution_count": 11,
   "id": "5a4c2b2b",
   "metadata": {},
   "outputs": [],
   "source": [
    "ounces = nsfg[\"birthwgt_oz1\"]"
   ]
  },
  {
   "cell_type": "code",
   "execution_count": 12,
   "id": "a0fa21be",
   "metadata": {},
   "outputs": [
    {
     "data": {
      "text/plain": [
       "0     4.0\n",
       "1    12.0\n",
       "2     4.0\n",
       "3     NaN\n",
       "4    13.0\n",
       "Name: birthwgt_oz1, dtype: float64"
      ]
     },
     "execution_count": 12,
     "metadata": {},
     "output_type": "execute_result"
    }
   ],
   "source": [
    "ounces.head()"
   ]
  },
  {
   "cell_type": "code",
   "execution_count": 13,
   "id": "cf362af2",
   "metadata": {},
   "outputs": [
    {
     "data": {
      "text/plain": [
       "count    6390.000000\n",
       "mean        7.153267\n",
       "std         1.485002\n",
       "min         0.000000\n",
       "25%         6.375000\n",
       "50%         7.187500\n",
       "75%         8.000000\n",
       "max        17.937500\n",
       "dtype: float64"
      ]
     },
     "execution_count": 13,
     "metadata": {},
     "output_type": "execute_result"
    }
   ],
   "source": [
    "birth_weight = pounds + ounces / 16.0\n",
    "birth_weight.describe()"
   ]
  },
  {
   "cell_type": "markdown",
   "id": "0e21f6a7",
   "metadata": {},
   "source": [
    "### Clean and Validate\n",
    "\n",
    "- `value_counts()`\n",
    "- `describe()`\n",
    "- `series.replace([98,99], np.nan, inplace = True)`"
   ]
  },
  {
   "cell_type": "markdown",
   "id": "1b48038e",
   "metadata": {},
   "source": [
    "How many pregnancies in this dataset ended with a live birth?\n",
    "- 1. Live birth\n",
    "- 2. Induced abortion\n",
    "- 3. Stillbirth\n",
    "- 4. Miscarriage\n",
    "- 5. Ectopic pregnancy\n",
    "- 6. Current pregnancy"
   ]
  },
  {
   "cell_type": "code",
   "execution_count": 14,
   "id": "70655e02",
   "metadata": {},
   "outputs": [
    {
     "data": {
      "text/plain": [
       "1    6489\n",
       "4    1469\n",
       "2     947\n",
       "6     249\n",
       "5     118\n",
       "3      86\n",
       "Name: outcome, dtype: int64"
      ]
     },
     "execution_count": 14,
     "metadata": {},
     "output_type": "execute_result"
    }
   ],
   "source": [
    "nsfg[\"outcome\"].value_counts()"
   ]
  },
  {
   "cell_type": "code",
   "execution_count": 15,
   "id": "06d88b32",
   "metadata": {},
   "outputs": [
    {
     "data": {
      "text/plain": [
       "1.0    6379\n",
       "2.0     100\n",
       "3.0       5\n",
       "8.0       1\n",
       "Name: nbrnaliv, dtype: int64"
      ]
     },
     "execution_count": 15,
     "metadata": {},
     "output_type": "execute_result"
    }
   ],
   "source": [
    "nsfg['nbrnaliv'].value_counts()"
   ]
  },
  {
   "cell_type": "code",
   "execution_count": 16,
   "id": "e4e97ffb",
   "metadata": {},
   "outputs": [],
   "source": [
    "# 8 means that the respondent refused to answer. \n",
    "# This should be replaced with nan"
   ]
  },
  {
   "cell_type": "code",
   "execution_count": 17,
   "id": "ac3ae1ac",
   "metadata": {},
   "outputs": [],
   "source": [
    "nsfg['nbrnaliv'].replace(8, np.nan, inplace = True)"
   ]
  },
  {
   "cell_type": "code",
   "execution_count": 18,
   "id": "cdd0019a",
   "metadata": {},
   "outputs": [
    {
     "data": {
      "text/plain": [
       "1.0    6379\n",
       "2.0     100\n",
       "3.0       5\n",
       "Name: nbrnaliv, dtype: int64"
      ]
     },
     "execution_count": 18,
     "metadata": {},
     "output_type": "execute_result"
    }
   ],
   "source": [
    "nsfg['nbrnaliv'].value_counts()"
   ]
  },
  {
   "cell_type": "code",
   "execution_count": 19,
   "id": "b1dafb6b",
   "metadata": {},
   "outputs": [],
   "source": [
    "## checking the age of pregnancy and the age of conception\n",
    "agecon = nsfg['agecon']/100\n",
    "agepreg = nsfg['agepreg']/100"
   ]
  },
  {
   "cell_type": "code",
   "execution_count": 20,
   "id": "a345e770",
   "metadata": {},
   "outputs": [],
   "source": [
    "preg_length = agepreg - agecon"
   ]
  },
  {
   "cell_type": "code",
   "execution_count": 21,
   "id": "6a5abe2e",
   "metadata": {},
   "outputs": [
    {
     "data": {
      "text/plain": [
       "count    9109.000000\n",
       "mean        0.552069\n",
       "std         0.271479\n",
       "min         0.000000\n",
       "25%         0.250000\n",
       "50%         0.670000\n",
       "75%         0.750000\n",
       "max         0.920000\n",
       "dtype: float64"
      ]
     },
     "execution_count": 21,
     "metadata": {},
     "output_type": "execute_result"
    }
   ],
   "source": [
    "preg_length.describe()"
   ]
  },
  {
   "cell_type": "markdown",
   "id": "aef76caf",
   "metadata": {},
   "source": [
    "### Filter and Visualize"
   ]
  },
  {
   "cell_type": "code",
   "execution_count": 22,
   "id": "75ee771a",
   "metadata": {},
   "outputs": [
    {
     "data": {
      "image/png": "[encoded data removed]",
      "text/plain": [
       "<Figure size 432x288 with 1 Axes>"
      ]
     },
     "metadata": {
      "needs_background": "light"
     },
     "output_type": "display_data"
    }
   ],
   "source": [
    "import matplotlib.pyplot as plt\n",
    "\n",
    "plt.hist(birth_weight.dropna(), bins = 30)\n",
    "plt.xlabel('Birth weight (lb)')\n",
    "plt.ylabel('Fraction of births')\n",
    "plt.show()"
   ]
  },
  {
   "cell_type": "code",
   "execution_count": 23,
   "id": "1ca5f91c",
   "metadata": {},
   "outputs": [
    {
     "data": {
      "text/plain": [
       "0    False\n",
       "1     True\n",
       "2     True\n",
       "3     True\n",
       "4    False\n",
       "Name: prglngth, dtype: bool"
      ]
     },
     "execution_count": 23,
     "metadata": {},
     "output_type": "execute_result"
    }
   ],
   "source": [
    "preterm = nsfg['prglngth'] < 37\n",
    "preterm.head()"
   ]
  },
  {
   "cell_type": "code",
   "execution_count": 24,
   "id": "d93741f7",
   "metadata": {},
   "outputs": [
    {
     "data": {
      "text/plain": [
       "3742"
      ]
     },
     "execution_count": 24,
     "metadata": {},
     "output_type": "execute_result"
    }
   ],
   "source": [
    "preterm.sum() # number of preterm babies"
   ]
  },
  {
   "cell_type": "code",
   "execution_count": 25,
   "id": "215c0f58",
   "metadata": {},
   "outputs": [
    {
     "data": {
      "text/plain": [
       "0.39987176747168196"
      ]
     },
     "execution_count": 25,
     "metadata": {},
     "output_type": "execute_result"
    }
   ],
   "source": [
    "preterm.mean() # approx 40% of births are preterm"
   ]
  },
  {
   "cell_type": "code",
   "execution_count": 26,
   "id": "902f2afa",
   "metadata": {},
   "outputs": [
    {
     "data": {
      "text/plain": [
       "5.602043673012318"
      ]
     },
     "execution_count": 26,
     "metadata": {},
     "output_type": "execute_result"
    }
   ],
   "source": [
    "#### Filter\n",
    "\n",
    "preterm_weight = birth_weight[preterm]\n",
    "preterm_weight.mean()"
   ]
  },
  {
   "cell_type": "code",
   "execution_count": 27,
   "id": "bdd1bf41",
   "metadata": {},
   "outputs": [
    {
     "data": {
      "text/plain": [
       "7.405266509004912"
      ]
     },
     "execution_count": 27,
     "metadata": {},
     "output_type": "execute_result"
    }
   ],
   "source": [
    "full_term_weight = birth_weight[~preterm] # ~ symbol means not\n",
    "full_term_weight.mean()"
   ]
  },
  {
   "cell_type": "markdown",
   "id": "f97fe5f6",
   "metadata": {},
   "source": [
    "#### Filter on multiple conditions\n",
    "`&` for AND (both true) <br>\n",
    "`|` for OR (either or both true)\n",
    "\n",
    "### Resampling\n",
    "- NSFG is not representative\n",
    "- Some groups are \"oversampled\"\n",
    "- we can correct using `resample_rows_weighted()` in the course"
   ]
  },
  {
   "cell_type": "code",
   "execution_count": 28,
   "id": "db7db18a",
   "metadata": {},
   "outputs": [
    {
     "data": {
      "image/png": "[encoded data removed]",
      "text/plain": [
       "<Figure size 432x288 with 1 Axes>"
      ]
     },
     "metadata": {
      "needs_background": "light"
     },
     "output_type": "display_data"
    }
   ],
   "source": [
    "\n",
    "plt.hist(agecon, bins = 20, histtype = 'step')\n",
    "\n",
    "\n",
    "plt.xlabel('Age at conception')\n",
    "plt.ylabel('Number of pregnancies')\n",
    "\n",
    "\n",
    "plt.show()"
   ]
  },
  {
   "cell_type": "markdown",
   "id": "4efcbe7f",
   "metadata": {},
   "source": [
    "#### sidenote: \n",
    "\n",
    "The course provided a function, resample_rows_weighted, that takes the NSFG data and resamples it using the sampling weights in wgt2013_2015. The result is a sample that is representative of the U.S. population.\n",
    "\n",
    "Then they extracted birthwgt_lb1 and birthwgt_oz1, replace special codes with NaN, and compute total birth weight in pounds, birth_weight.\n",
    "\n",
    "##### Resample the data\n",
    "`nsfg = resample_rows_weighted(nsfg, 'wgt2013_2015')`\n",
    "\n",
    "##### Clean the weight variables\n",
    "`pounds = nsfg['birthwgt_lb1'].replace([98, 99], np.nan)` <br>\n",
    "`ounces = nsfg['birthwgt_oz1'].replace([98, 99], np.nan)`\n",
    "\n",
    "##### Compute total birth weight\n",
    "`birth_weight = pounds + ounces/16`"
   ]
  },
  {
   "cell_type": "code",
   "execution_count": 29,
   "id": "2b770b41",
   "metadata": {},
   "outputs": [],
   "source": [
    "nsfg = tstat.ResampleRowsWeighted(nsfg, 'wgt2013_2015')"
   ]
  },
  {
   "cell_type": "code",
   "execution_count": 30,
   "id": "d62ca5f2",
   "metadata": {},
   "outputs": [],
   "source": [
    "pounds = nsfg['birthwgt_lb1'].replace([98, 99], np.nan)\n",
    "ounces = nsfg['birthwgt_oz1'].replace([98, 99], np.nan)\n",
    "birth_weight = pounds + ounces/16"
   ]
  },
  {
   "cell_type": "code",
   "execution_count": 31,
   "id": "029f0651",
   "metadata": {},
   "outputs": [
    {
     "name": "stdout",
     "output_type": "stream",
     "text": [
      "Single full-term mean: 7.442458714772931\n",
      "Multiple full-term mean: 5.52027027027027\n"
     ]
    }
   ],
   "source": [
    "full_term = nsfg['prglngth'] >= 37\n",
    "single = nsfg['nbrnaliv'] == 1\n",
    "\n",
    "# Compute birth weight for single full-term babies\n",
    "single_full_term_weight = birth_weight[full_term & single]\n",
    "print('Single full-term mean:', single_full_term_weight.mean())\n",
    "\n",
    "# Compute birth weight for multiple full-term babies\n",
    "mult_full_term_weight = birth_weight[full_term & ~single]\n",
    "print('Multiple full-term mean:', mult_full_term_weight.mean())\n"
   ]
  },
  {
   "cell_type": "markdown",
   "id": "ce58ea91",
   "metadata": {},
   "source": [
    "### Probability mass functions"
   ]
  },
  {
   "cell_type": "code",
   "execution_count": 32,
   "id": "1d692ee7",
   "metadata": {},
   "outputs": [],
   "source": [
    "gss = pd.read_hdf('gss.hdf5') # cleaned and validated by course"
   ]
  },
  {
   "cell_type": "code",
   "execution_count": 33,
   "id": "388e65f5",
   "metadata": {},
   "outputs": [
    {
     "data": {
      "text/html": [
       "<div>\n",
       "<style scoped>\n",
       "    .dataframe tbody tr th:only-of-type {\n",
       "        vertical-align: middle;\n",
       "    }\n",
       "\n",
       "    .dataframe tbody tr th {\n",
       "        vertical-align: top;\n",
       "    }\n",
       "\n",
       "    .dataframe thead th {\n",
       "        text-align: right;\n",
       "    }\n",
       "</style>\n",
       "<table border=\"1\" class=\"dataframe\">\n",
       "  <thead>\n",
       "    <tr style=\"text-align: right;\">\n",
       "      <th></th>\n",
       "      <th>year</th>\n",
       "      <th>age</th>\n",
       "      <th>cohort</th>\n",
       "      <th>sex</th>\n",
       "      <th>race</th>\n",
       "      <th>educ</th>\n",
       "      <th>realinc</th>\n",
       "      <th>gunlaw</th>\n",
       "      <th>grass</th>\n",
       "      <th>wtssall</th>\n",
       "    </tr>\n",
       "  </thead>\n",
       "  <tbody>\n",
       "    <tr>\n",
       "      <th>0</th>\n",
       "      <td>1972</td>\n",
       "      <td>26.0</td>\n",
       "      <td>1946.0</td>\n",
       "      <td>1</td>\n",
       "      <td>1</td>\n",
       "      <td>18.0</td>\n",
       "      <td>13537.0</td>\n",
       "      <td>2.0</td>\n",
       "      <td>NaN</td>\n",
       "      <td>0.8893</td>\n",
       "    </tr>\n",
       "    <tr>\n",
       "      <th>1</th>\n",
       "      <td>1972</td>\n",
       "      <td>38.0</td>\n",
       "      <td>1934.0</td>\n",
       "      <td>2</td>\n",
       "      <td>1</td>\n",
       "      <td>12.0</td>\n",
       "      <td>18951.0</td>\n",
       "      <td>1.0</td>\n",
       "      <td>NaN</td>\n",
       "      <td>0.4446</td>\n",
       "    </tr>\n",
       "    <tr>\n",
       "      <th>2</th>\n",
       "      <td>1972</td>\n",
       "      <td>57.0</td>\n",
       "      <td>1915.0</td>\n",
       "      <td>1</td>\n",
       "      <td>1</td>\n",
       "      <td>12.0</td>\n",
       "      <td>30458.0</td>\n",
       "      <td>1.0</td>\n",
       "      <td>NaN</td>\n",
       "      <td>1.3339</td>\n",
       "    </tr>\n",
       "    <tr>\n",
       "      <th>3</th>\n",
       "      <td>1972</td>\n",
       "      <td>61.0</td>\n",
       "      <td>1911.0</td>\n",
       "      <td>2</td>\n",
       "      <td>1</td>\n",
       "      <td>14.0</td>\n",
       "      <td>37226.0</td>\n",
       "      <td>1.0</td>\n",
       "      <td>NaN</td>\n",
       "      <td>0.8893</td>\n",
       "    </tr>\n",
       "    <tr>\n",
       "      <th>4</th>\n",
       "      <td>1972</td>\n",
       "      <td>59.0</td>\n",
       "      <td>1913.0</td>\n",
       "      <td>1</td>\n",
       "      <td>1</td>\n",
       "      <td>12.0</td>\n",
       "      <td>30458.0</td>\n",
       "      <td>2.0</td>\n",
       "      <td>NaN</td>\n",
       "      <td>0.8893</td>\n",
       "    </tr>\n",
       "  </tbody>\n",
       "</table>\n",
       "</div>"
      ],
      "text/plain": [
       "   year   age  cohort  sex  race  educ  realinc  gunlaw  grass  wtssall\n",
       "0  1972  26.0  1946.0    1     1  18.0  13537.0     2.0    NaN   0.8893\n",
       "1  1972  38.0  1934.0    2     1  12.0  18951.0     1.0    NaN   0.4446\n",
       "2  1972  57.0  1915.0    1     1  12.0  30458.0     1.0    NaN   1.3339\n",
       "3  1972  61.0  1911.0    2     1  14.0  37226.0     1.0    NaN   0.8893\n",
       "4  1972  59.0  1913.0    1     1  12.0  30458.0     2.0    NaN   0.8893"
      ]
     },
     "execution_count": 33,
     "metadata": {},
     "output_type": "execute_result"
    }
   ],
   "source": [
    "gss.head()"
   ]
  },
  {
   "cell_type": "code",
   "execution_count": 34,
   "id": "a1492b86",
   "metadata": {},
   "outputs": [
    {
     "data": {
      "image/png": "[encoded data removed]",
      "text/plain": [
       "<Figure size 432x288 with 1 Axes>"
      ]
     },
     "metadata": {
      "needs_background": "light"
     },
     "output_type": "display_data"
    }
   ],
   "source": [
    "educ = gss['educ']\n",
    "plt.hist(educ.dropna(), label = 'educ') # bad way to visualize this data.\n",
    "plt.show()"
   ]
  },
  {
   "cell_type": "code",
   "execution_count": null,
   "id": "57da39e4",
   "metadata": {},
   "outputs": [],
   "source": []
  }
 ],
 "metadata": {
  "kernelspec": {
   "display_name": "Python 3 (ipykernel)",
   "language": "python",
   "name": "python3"
  },
  "language_info": {
   "codemirror_mode": {
    "name": "ipython",
    "version": 3
   },
   "file_extension": ".py",
   "mimetype": "text/x-python",
   "name": "python",
   "nbconvert_exporter": "python",
   "pygments_lexer": "ipython3",
   "version": "3.9.7"
  }
 },
 "nbformat": 4,
 "nbformat_minor": 5
}
